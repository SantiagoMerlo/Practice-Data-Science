{
 "cells": [
  {
   "cell_type": "markdown",
   "metadata": {},
   "source": [
    "# Regresion Logistica\n",
    "\n",
    "En regresion lineal siempre el valor de salida es un valor numerico continuo, sin embargo si el valor es discreto se deberia de usar otro modelo.\n",
    "\n",
    "Con la regresion lineal podemos crear respuestas categoricas. Este modelo es muy similar a la regresion lineal.\n",
    "\n",
    "`objetivo:` Clasificar.\n",
    "\n",
    "* La relacion que posee es Lineal pero con alguna transformacion\n",
    "\n",
    "https://es.wikipedia.org/wiki/Regresi%C3%B3n_log%C3%ADstica\n"
   ]
  },
  {
   "cell_type": "markdown",
   "metadata": {},
   "source": [
    "# Matematica tras regresion Logistica\n",
    "\n",
    "### Tablas de contigencia\n",
    "**Cual es la probabilidad de que algo ocurra?**\n",
    "El dataset con lo que vamos a trabajar basciamente determina si compro o no una persona por su genero.\n",
    "Lo que queremos saber es con cuanta frecuencia ocurrio algo."
   ]
  },
  {
   "cell_type": "code",
   "execution_count": 1,
   "metadata": {},
   "outputs": [
    {
     "data": {
      "text/html": [
       "<div>\n",
       "<style scoped>\n",
       "    .dataframe tbody tr th:only-of-type {\n",
       "        vertical-align: middle;\n",
       "    }\n",
       "\n",
       "    .dataframe tbody tr th {\n",
       "        vertical-align: top;\n",
       "    }\n",
       "\n",
       "    .dataframe thead th {\n",
       "        text-align: right;\n",
       "    }\n",
       "</style>\n",
       "<table border=\"1\" class=\"dataframe\">\n",
       "  <thead>\n",
       "    <tr style=\"text-align: right;\">\n",
       "      <th></th>\n",
       "      <th>Gender</th>\n",
       "      <th>Purchase</th>\n",
       "    </tr>\n",
       "  </thead>\n",
       "  <tbody>\n",
       "    <tr>\n",
       "      <td>0</td>\n",
       "      <td>Female</td>\n",
       "      <td>Yes</td>\n",
       "    </tr>\n",
       "    <tr>\n",
       "      <td>1</td>\n",
       "      <td>Female</td>\n",
       "      <td>Yes</td>\n",
       "    </tr>\n",
       "    <tr>\n",
       "      <td>2</td>\n",
       "      <td>Female</td>\n",
       "      <td>No</td>\n",
       "    </tr>\n",
       "    <tr>\n",
       "      <td>3</td>\n",
       "      <td>Male</td>\n",
       "      <td>No</td>\n",
       "    </tr>\n",
       "    <tr>\n",
       "      <td>4</td>\n",
       "      <td>Male</td>\n",
       "      <td>Yes</td>\n",
       "    </tr>\n",
       "  </tbody>\n",
       "</table>\n",
       "</div>"
      ],
      "text/plain": [
       "   Gender Purchase\n",
       "0  Female      Yes\n",
       "1  Female      Yes\n",
       "2  Female       No\n",
       "3    Male       No\n",
       "4    Male      Yes"
      ]
     },
     "execution_count": 1,
     "metadata": {},
     "output_type": "execute_result"
    }
   ],
   "source": [
    "import pandas as pd\n",
    "data = pd.read_csv('../Machine Learning/python-ml-course/datasets/gender-purchase/Gender Purchase.csv')\n",
    "data.head()"
   ]
  },
  {
   "cell_type": "code",
   "execution_count": 3,
   "metadata": {},
   "outputs": [
    {
     "data": {
      "text/plain": [
       "(511, 2)"
      ]
     },
     "execution_count": 3,
     "metadata": {},
     "output_type": "execute_result"
    }
   ],
   "source": [
    "data.shape"
   ]
  },
  {
   "cell_type": "markdown",
   "metadata": {},
   "source": [
    "vamos ahora a crear una tabla de contigencia, basicamente vamos a ver donde pueden caer los casos.\n",
    "En este caso nos dividimos en 4 partes, Mujer compra o no y hombre compra o no.\n",
    "##### Crear tabla de contigencia:\n",
    "https://pandas.pydata.org/pandas-docs/stable/reference/api/pandas.crosstab.html\n",
    "\n",
    "`pandas.crosstab(index, columns, values=None, rownames=None, colnames=None, aggfunc=None, margins=False, margins_name: str = 'All', dropna: bool = True, normalize=False)`\n",
    "\n",
    "`return: `DataFrame"
   ]
  },
  {
   "cell_type": "code",
   "execution_count": 6,
   "metadata": {},
   "outputs": [
    {
     "name": "stdout",
     "output_type": "stream",
     "text": [
      "<class 'pandas.core.frame.DataFrame'>\n"
     ]
    },
    {
     "data": {
      "text/html": [
       "<div>\n",
       "<style scoped>\n",
       "    .dataframe tbody tr th:only-of-type {\n",
       "        vertical-align: middle;\n",
       "    }\n",
       "\n",
       "    .dataframe tbody tr th {\n",
       "        vertical-align: top;\n",
       "    }\n",
       "\n",
       "    .dataframe thead th {\n",
       "        text-align: right;\n",
       "    }\n",
       "</style>\n",
       "<table border=\"1\" class=\"dataframe\">\n",
       "  <thead>\n",
       "    <tr style=\"text-align: right;\">\n",
       "      <th>Purchase</th>\n",
       "      <th>No</th>\n",
       "      <th>Yes</th>\n",
       "    </tr>\n",
       "    <tr>\n",
       "      <th>Gender</th>\n",
       "      <th></th>\n",
       "      <th></th>\n",
       "    </tr>\n",
       "  </thead>\n",
       "  <tbody>\n",
       "    <tr>\n",
       "      <td>Female</td>\n",
       "      <td>106</td>\n",
       "      <td>159</td>\n",
       "    </tr>\n",
       "    <tr>\n",
       "      <td>Male</td>\n",
       "      <td>125</td>\n",
       "      <td>121</td>\n",
       "    </tr>\n",
       "  </tbody>\n",
       "</table>\n",
       "</div>"
      ],
      "text/plain": [
       "Purchase   No  Yes\n",
       "Gender            \n",
       "Female    106  159\n",
       "Male      125  121"
      ]
     },
     "execution_count": 6,
     "metadata": {},
     "output_type": "execute_result"
    }
   ],
   "source": [
    "cont_table = pd.crosstab(data['Gender'],data['Purchase'])\n",
    "print(type(cont_table))\n",
    "cont_table.head()"
   ]
  },
  {
   "cell_type": "code",
   "execution_count": 13,
   "metadata": {},
   "outputs": [
    {
     "name": "stdout",
     "output_type": "stream",
     "text": [
      "Gender\n",
      "Female    265\n",
      "Male      246\n",
      "dtype: int64 \n",
      "\n",
      " Purchase\n",
      "No     231\n",
      "Yes    280\n",
      "dtype: int64\n"
     ]
    }
   ],
   "source": [
    "print(cont_table.sum(axis=1),\"\\n\\n\",cont_table.sum(axis=0))"
   ]
  },
  {
   "cell_type": "code",
   "execution_count": 32,
   "metadata": {},
   "outputs": [
    {
     "name": "stdout",
     "output_type": "stream",
     "text": [
      "Purchase       No      Yes\n",
      "Gender                    \n",
      "Female    0.40000  0.60000\n",
      "Male      0.50813  0.49187\n",
      "Purchase        No       Yes\n",
      "Gender                      \n",
      "Female    0.458874  0.567857\n",
      "Male      0.541126  0.432143\n"
     ]
    }
   ],
   "source": [
    "# Ahora vamos a calcular las proporciones de como compraron\n",
    "p_data1 = cont_table.astype(float).div(cont_table.sum(axis=1),axis=0) #como hicieron por genero\n",
    "p_data2 = cont_table.astype(float).div(cont_table.sum(axis=0),axis=1) #como se hicieron por compras\n",
    "#dividimos cada una de las columnas por la sumatoria de cada una de las filas\n",
    "print(p_data1.head())\n",
    "print(p_data2.head())"
   ]
  },
  {
   "cell_type": "markdown",
   "metadata": {},
   "source": [
    "# Probabilidad condicional\n",
    "La probabilidad de que un suceso ocurra o no, teniendo en cuenta ciertas restricciones de las cuales ya sabemos que estan pasando o no estan pasando.\n",
    "\n",
    "volvamos a la pregunta de esta seccion:\n",
    "* `Cual es la probabilidad de que un cliente compre un producto sabiendo que es un hombre?`\n",
    "* `Cual es la probabilidad de que sabiendo que un cliente compra un producto sea mujer?`"
   ]
  },
  {
   "cell_type": "code",
   "execution_count": 17,
   "metadata": {},
   "outputs": [],
   "source": [
    "from IPython.display import display, Math , Latex"
   ]
  },
  {
   "cell_type": "code",
   "execution_count": 20,
   "metadata": {},
   "outputs": [
    {
     "data": {
      "text/latex": [
       "$\\displaystyle P(Purchase|Male)=\\frac{Numero\\ total\\ de\\ compras\\ heachas\\ por\\ un\\ hombre}{Numero\\ total\\ de\\ hombre} = \\frac{Pucharse\\cap Male}{Male}$"
      ],
      "text/plain": [
       "<IPython.core.display.Math object>"
      ]
     },
     "metadata": {},
     "output_type": "display_data"
    }
   ],
   "source": [
    "display(Math(r'P(Purchase|Male)=\\frac{Numero\\ total\\ de\\ compras\\ heachas\\ por\\ un\\ hombre}{Numero\\ total\\ de\\ hombre} = \\frac{Pucharse\\cap Male}{Male}'))"
   ]
  },
  {
   "cell_type": "code",
   "execution_count": 33,
   "metadata": {},
   "outputs": [
    {
     "name": "stdout",
     "output_type": "stream",
     "text": [
      "respuesta de la primera pregunta:  0.491869918699187\n",
      "respuesta de la segunda pregunta:  0.5678571428571428\n"
     ]
    }
   ],
   "source": [
    "print('respuesta de la primera pregunta: ',p_data1.iat[1,1])\n",
    "print('respuesta de la segunda pregunta: ',p_data2.iat[0,1])"
   ]
  },
  {
   "cell_type": "markdown",
   "metadata": {},
   "source": [
    "#### Ratio de Probabilidad\n",
    "Es el cociente entre los casos de exitos para cada uno de los grupos\n"
   ]
  },
  {
   "cell_type": "code",
   "execution_count": 34,
   "metadata": {},
   "outputs": [
    {
     "data": {
      "text/latex": [
       "$\\displaystyle P_m = \\ probabilidad\\ de\\ hacer\\ compra\\ sabiendo\\ que\\ es \\ un \\ hombre$"
      ],
      "text/plain": [
       "<IPython.core.display.Math object>"
      ]
     },
     "metadata": {},
     "output_type": "display_data"
    },
    {
     "data": {
      "text/latex": [
       "$\\displaystyle P_f = \\ probabilidad\\ de\\ hacer\\ compra\\ sabiendo\\ que\\ es \\ una\\ mujer$"
      ],
      "text/plain": [
       "<IPython.core.display.Math object>"
      ]
     },
     "metadata": {},
     "output_type": "display_data"
    },
    {
     "data": {
      "text/latex": [
       "$\\displaystyle odds\\in[0,+\\infty]$"
      ],
      "text/plain": [
       "<IPython.core.display.Math object>"
      ]
     },
     "metadata": {},
     "output_type": "display_data"
    },
    {
     "data": {
      "text/latex": [
       "$\\displaystyle odds_{purchase,male} = \\frac{P_m}{1-P_m} = \\frac{N_{p,m}}{N_{\\bar p, m}}$"
      ],
      "text/plain": [
       "<IPython.core.display.Math object>"
      ]
     },
     "metadata": {},
     "output_type": "display_data"
    },
    {
     "data": {
      "text/latex": [
       "$\\displaystyle odds_{purchase,female} = \\frac{P_F}{1-P_F} = \\frac{N_{p,f}}{N_{\\bar p, f}}$"
      ],
      "text/plain": [
       "<IPython.core.display.Math object>"
      ]
     },
     "metadata": {},
     "output_type": "display_data"
    }
   ],
   "source": [
    "display(Math(r'P_m = \\ probabilidad\\ de\\ hacer\\ compra\\ sabiendo\\ que\\ es \\ un \\ hombre'))\n",
    "\n",
    "display(Math(r'P_f = \\ probabilidad\\ de\\ hacer\\ compra\\ sabiendo\\ que\\ es \\ una\\ mujer'))\n",
    "\n",
    "display(Math(r'odds\\in[0,+\\infty]'))\n",
    "\n",
    "display(Math(r'odds_{purchase,male} = \\frac{P_m}{1-P_m} = \\frac{N_{p,m}}{N_{\\bar p, m}}'))\n",
    "#a traves de esta formula podemos lograr llegar de 0 hasta infinito\n",
    "\n",
    "display(Math(r'odds_{purchase,female} = \\frac{P_F}{1-P_F} = \\frac{N_{p,f}}{N_{\\bar p, f}}'))"
   ]
  },
  {
   "cell_type": "code",
   "execution_count": 40,
   "metadata": {},
   "outputs": [
    {
     "name": "stdout",
     "output_type": "stream",
     "text": [
      " 0.9680000000000002 \n",
      " 1.4999999999999998\n"
     ]
    }
   ],
   "source": [
    "pm = p_data1.iat[1,1]\n",
    "pf = p_data1.iat[0,1]\n",
    "odds_m = pm/(1-pm)\n",
    "odds_f = pf/(1-pf)\n",
    "print('',odds_men,'\\n',odds_f)"
   ]
  },
  {
   "cell_type": "markdown",
   "metadata": {},
   "source": [
    "* Si el ratio es superior a 1, es más probable el éxito que el fracas. Cuanto mayor es el ratio, más probabilidad de éxito en nuestro suceso.\n",
    "* Si el ratio es exactamente igual a 1, éxito y fracaso son equiprobables (p=0.5)\n",
    "* Si el ratio es menor que 1, el fracaso es más probable que el éxito. Cuanto menor es el ratio, menor es la probabilidad de éxito del suceso.\n"
   ]
  },
  {
   "cell_type": "code",
   "execution_count": 38,
   "metadata": {},
   "outputs": [
    {
     "data": {
      "text/latex": [
       "$\\displaystyle odds_{ratio} = \\frac{odds_{purchase,male}}{odds_{purchase,female}}$"
      ],
      "text/plain": [
       "<IPython.core.display.Math object>"
      ]
     },
     "metadata": {},
     "output_type": "display_data"
    }
   ],
   "source": [
    "display(Math(r'odds_{ratio} = \\frac{odds_{purchase,male}}{odds_{purchase,female}}'))"
   ]
  },
  {
   "cell_type": "code",
   "execution_count": 41,
   "metadata": {},
   "outputs": [
    {
     "data": {
      "text/plain": [
       "0.6453333333333335"
      ]
     },
     "execution_count": 41,
     "metadata": {},
     "output_type": "execute_result"
    }
   ],
   "source": [
    "odds_r = odds_m/odds_f\n",
    "odds_r"
   ]
  },
  {
   "cell_type": "code",
   "execution_count": 42,
   "metadata": {},
   "outputs": [
    {
     "data": {
      "text/plain": [
       "1.5495867768595037"
      ]
     },
     "execution_count": 42,
     "metadata": {},
     "output_type": "execute_result"
    }
   ],
   "source": [
    "1/odds_r# odds_f/odds_m"
   ]
  },
  {
   "cell_type": "markdown",
   "metadata": {},
   "source": [
    "## Demostracion\n",
    "### La regresión logística desde la regresión lineal\n"
   ]
  },
  {
   "cell_type": "code",
   "execution_count": 43,
   "metadata": {},
   "outputs": [
    {
     "data": {
      "text/latex": [
       "$\\displaystyle y = \\alpha + \\beta \\cdot x$"
      ],
      "text/plain": [
       "<IPython.core.display.Math object>"
      ]
     },
     "metadata": {},
     "output_type": "display_data"
    },
    {
     "data": {
      "text/latex": [
       "$\\displaystyle (x,y)\\in[-\\infty, +\\infty]^2$"
      ],
      "text/plain": [
       "<IPython.core.display.Math object>"
      ]
     },
     "metadata": {},
     "output_type": "display_data"
    }
   ],
   "source": [
    "display(Math(r'y = \\alpha + \\beta \\cdot x'))\n",
    "display(Math(r'(x,y)\\in[-\\infty, +\\infty]^2'))"
   ]
  },
  {
   "cell_type": "code",
   "execution_count": 44,
   "metadata": {},
   "outputs": [
    {
     "data": {
      "text/latex": [
       "$\\displaystyle Y\\in\\{0,1\\}??$"
      ],
      "text/plain": [
       "<IPython.core.display.Math object>"
      ]
     },
     "metadata": {},
     "output_type": "display_data"
    },
    {
     "data": {
      "text/latex": [
       "$\\displaystyle P\\in [0,1]$"
      ],
      "text/plain": [
       "<IPython.core.display.Math object>"
      ]
     },
     "metadata": {},
     "output_type": "display_data"
    },
    {
     "data": {
      "text/latex": [
       "$\\displaystyle X\\in [-\\infty,\\infty]$"
      ],
      "text/plain": [
       "<IPython.core.display.Math object>"
      ]
     },
     "metadata": {},
     "output_type": "display_data"
    },
    {
     "data": {
      "text/latex": [
       "$\\displaystyle P = \\alpha + \\beta\\cdot X$"
      ],
      "text/plain": [
       "<IPython.core.display.Math object>"
      ]
     },
     "metadata": {},
     "output_type": "display_data"
    }
   ],
   "source": [
    "display(Math(r'Y\\in\\{0,1\\}??'))\n",
    "display(Math(r'P\\in [0,1]'))\n",
    "display(Math(r'X\\in [-\\infty,\\infty]'))\n",
    "display(Math(r'P = \\alpha + \\beta\\cdot X'))\n",
    "#La primera aproximacion se puede estimar a traves de la formula de regresion lineal.\n",
    "# P es la probabilidad condicionada de éxito o de fracaso condicionada a la presencia de la variable X"
   ]
  },
  {
   "cell_type": "code",
   "execution_count": 45,
   "metadata": {},
   "outputs": [
    {
     "data": {
      "text/latex": [
       "$\\displaystyle \\frac{P}{1-P} = \\alpha + \\beta\\cdot X\\in [0,+\\infty]$"
      ],
      "text/plain": [
       "<IPython.core.display.Math object>"
      ]
     },
     "metadata": {},
     "output_type": "display_data"
    }
   ],
   "source": [
    "display(Math(r'\\frac{P}{1-P} = \\alpha + \\beta\\cdot X\\in [0,+\\infty]'))\n",
    "#tomando lo anteriormente dicho nos va a permitir ir de 0 a infinito"
   ]
  },
  {
   "cell_type": "code",
   "execution_count": 46,
   "metadata": {},
   "outputs": [
    {
     "data": {
      "text/latex": [
       "$\\displaystyle  ln(\\frac{P}{1-P}) = \\alpha + \\beta\\cdot X$"
      ],
      "text/plain": [
       "<IPython.core.display.Math object>"
      ]
     },
     "metadata": {},
     "output_type": "display_data"
    }
   ],
   "source": [
    "display(Math(r' ln(\\frac{P}{1-P}) = \\alpha + \\beta\\cdot X'))\n",
    "#Para solucionar este problema aplicamos un logaritmo neperiano para dejar el intervalor de 0 a 1"
   ]
  },
  {
   "cell_type": "code",
   "execution_count": 47,
   "metadata": {},
   "outputs": [
    {
     "data": {
      "text/latex": [
       "$\\displaystyle \\begin{cases}\\frac{P}{1-P}\\in[0,1]\\Rightarrow ln(\\frac{P}{1-P})\\in[-\\infty,0]\\\\ \\frac{P}{1-P}\\in[1,+\\infty]\\Rightarrow ln(\\frac{P}{1-P})\\in[0, \\infty]\\end{cases}$"
      ],
      "text/plain": [
       "<IPython.core.display.Math object>"
      ]
     },
     "metadata": {},
     "output_type": "display_data"
    }
   ],
   "source": [
    "display(Math(r'\\begin{cases}\\frac{P}{1-P}\\in[0,1]\\Rightarrow ln(\\frac{P}{1-P})\\in[-\\infty,0]\\\\ \\frac{P}{1-P}\\in[1,+\\infty]\\Rightarrow ln(\\frac{P}{1-P})\\in[0, \\infty]\\end{cases}'))"
   ]
  },
  {
   "cell_type": "code",
   "execution_count": 48,
   "metadata": {},
   "outputs": [
    {
     "data": {
      "text/latex": [
       "$\\displaystyle  ln(\\frac{P}{1-P}) = \\alpha + \\beta\\cdot X$"
      ],
      "text/plain": [
       "<IPython.core.display.Math object>"
      ]
     },
     "metadata": {},
     "output_type": "display_data"
    },
    {
     "data": {
      "text/latex": [
       "$\\displaystyle  \\frac{P}{1-P} = e^{\\alpha + \\beta\\cdot X}$"
      ],
      "text/plain": [
       "<IPython.core.display.Math object>"
      ]
     },
     "metadata": {},
     "output_type": "display_data"
    },
    {
     "data": {
      "text/latex": [
       "$\\displaystyle  P = \\frac{e^{\\alpha+\\beta\\cdot X}}{1+e^{\\alpha+\\beta\\cdot X}}$"
      ],
      "text/plain": [
       "<IPython.core.display.Math object>"
      ]
     },
     "metadata": {},
     "output_type": "display_data"
    },
    {
     "data": {
      "text/latex": [
       "$\\displaystyle  P = \\frac{1}{1+e^{-(\\alpha+\\beta\\cdot X)}}$"
      ],
      "text/plain": [
       "<IPython.core.display.Math object>"
      ]
     },
     "metadata": {},
     "output_type": "display_data"
    }
   ],
   "source": [
    "display(Math(r' ln(\\frac{P}{1-P}) = \\alpha + \\beta\\cdot X'))\n",
    "display(Math(r' \\frac{P}{1-P} = e^{\\alpha + \\beta\\cdot X}'))\n",
    "display(Math(r' P = \\frac{e^{\\alpha+\\beta\\cdot X}}{1+e^{\\alpha+\\beta\\cdot X}}'))\n",
    "display(Math(r' P = \\frac{1}{1+e^{-(\\alpha+\\beta\\cdot X)}}'))"
   ]
  },
  {
   "cell_type": "markdown",
   "metadata": {},
   "source": [
    "* Si a+bX es muy pequeño (negativo), entonces P tiende a 0\n",
    "* Si a+bX = 0, P = 0.5\n",
    "* Si a+bX es muy grande (positivo), entonces P tiende a 1\n",
    "\n",
    "A traves de estas transformaciones hemos demostrado la formula matematica de la regresion logistica matematica"
   ]
  },
  {
   "cell_type": "markdown",
   "metadata": {},
   "source": [
    "### Regresión logística múltiple\n"
   ]
  },
  {
   "cell_type": "code",
   "execution_count": 49,
   "metadata": {},
   "outputs": [
    {
     "data": {
      "text/latex": [
       "$\\displaystyle  P = \\frac{1}{1+e^{-(\\alpha+\\sum_{i=1}^n\\beta_i\\cdot x_i)}}$"
      ],
      "text/plain": [
       "<IPython.core.display.Math object>"
      ]
     },
     "metadata": {},
     "output_type": "display_data"
    }
   ],
   "source": [
    "display(Math(r' P = \\frac{1}{1+e^{-(\\alpha+\\sum_{i=1}^n\\beta_i\\cdot x_i)}}'))"
   ]
  },
  {
   "cell_type": "code",
   "execution_count": 50,
   "metadata": {},
   "outputs": [
    {
     "data": {
      "text/latex": [
       "$\\displaystyle  \\vec{\\beta} = (\\beta_1,\\beta_2,\\cdots,\\beta_n)$"
      ],
      "text/plain": [
       "<IPython.core.display.Math object>"
      ]
     },
     "metadata": {},
     "output_type": "display_data"
    },
    {
     "data": {
      "text/latex": [
       "$\\displaystyle  \\vec{X} = (x_1,x_2,\\cdots,x_n)$"
      ],
      "text/plain": [
       "<IPython.core.display.Math object>"
      ]
     },
     "metadata": {},
     "output_type": "display_data"
    },
    {
     "data": {
      "text/latex": [
       "$\\displaystyle  P = \\frac{1}{1+e^{-(\\alpha+\\vec{\\beta_i}\\cdot \\vec{X})}}$"
      ],
      "text/plain": [
       "<IPython.core.display.Math object>"
      ]
     },
     "metadata": {},
     "output_type": "display_data"
    }
   ],
   "source": [
    "display(Math(r' \\vec{\\beta} = (\\beta_1,\\beta_2,\\cdots,\\beta_n)'))\n",
    "display(Math(r' \\vec{X} = (x_1,x_2,\\cdots,x_n)'))\n",
    "display(Math(r' P = \\frac{1}{1+e^{-(\\alpha+\\vec{\\beta_i}\\cdot \\vec{X})}}'))"
   ]
  },
  {
   "cell_type": "markdown",
   "metadata": {},
   "source": [
    "## Estimacion con el metodo de maxima verosimilitud\n",
    "### Demostracion matematica del funcinamiento \n",
    "https://es.wikipedia.org/wiki/M%C3%A1xima_verosimilitud\n",
    "https://www.seh-lelha.org/que-es-el-metodo-de-estimacion-de-maxima-verosimilitud-y-como-se-interpreta/\n",
    "* Entender concepto de matriz traspuestas\n",
    "* Derivadas parciales\n",
    "### Metodo de Newton - Rapson\n",
    "Basciamente desde un punto vamos a converger hasta llegar al punto de equilibrio\n",
    "\n",
    "##### Conclusion:\n",
    "* Primero debemos de definir nuestra funcion de verosimitud, donde basicamente estaran las incognitas que quiero buscar.\n",
    "* Definir la probabilidad de cada observacion de las psubi que salen y calcular las probabilidades.\n",
    "* Definir la formula de probabilidad logistica.\n",
    "* Finalmente utilizaremos la formula de Newton Rapson.\n",
    "* Probar que el modelo funcione realmente."
   ]
  },
  {
   "cell_type": "code",
   "execution_count": null,
   "metadata": {},
   "outputs": [],
   "source": []
  }
 ],
 "metadata": {
  "kernelspec": {
   "display_name": "Python 3",
   "language": "python",
   "name": "python3"
  },
  "language_info": {
   "codemirror_mode": {
    "name": "ipython",
    "version": 3
   },
   "file_extension": ".py",
   "mimetype": "text/x-python",
   "name": "python",
   "nbconvert_exporter": "python",
   "pygments_lexer": "ipython3",
   "version": "3.7.4"
  }
 },
 "nbformat": 4,
 "nbformat_minor": 2
}
