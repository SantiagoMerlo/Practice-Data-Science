{
 "cells": [
  {
   "cell_type": "markdown",
   "metadata": {},
   "source": [
    "# Resumen de Regresion Lineal\n",
    "Una relacion lineal entre los valores de entrada (predictorias) y las variables de salidas.\n",
    "### Regresion Lineal simple vs Regresion lineal multiple\n",
    "La diferencia de uno con el otro es la cantidad de variables predictoras.\n",
    "### Paquetes:\n",
    "Particularmente en python tenemos dos paquetes que van a ser muy utiles para trabajar con los datos:\n",
    "\n",
    "`statsmodel.formula.api as smf` y `sklearn.linear_model`.\n",
    "\n",
    "### Comprovacion del modelo:\n",
    "* `R^2`: Que es el calculo del porcentaje de error que tiene nuestro modelo de predecir valores.\n",
    "* `p-valores`: El valor en si de cada una de las variables en el modelo lineal(si es 0 o cercano es inecesaria)\n",
    "* `F estadistico`: Mientras mayor sea, mayor grado de libertad vamos a tener po lo tanto es mas eficiente el modelo.\n",
    "* `Prob(F Estadistico)`: Es el esquema anterior pero expresado estadisticamente. Mientras mas cercano de 0 es quiere decir que mas similar es a la Hipotesis nula y por lo tanto mas ajustado esta el modelo a las necesidad.\n",
    "* `RSE`: Error estandar de los residuos, es un dato porcentual que explica lo que el modelo no puede predecir.\n",
    "### Multicolinealidad\n",
    "Es cuando dos o mas de las variables de entrada que vamos a utiliar para predecir los valores, tienen una correlacion bastante alta. Esto lo que genera es que aumente la variabilidad del coeficiente estimado para las variables que esta correlacionados. Para solucionar este problema tenemos que calcular el `VIF` y excluirlas.\n",
    "### Division del dataset\n",
    "* Testing\n",
    "* Traning\n",
    "* `objetivo es evitar el Overfitting`\n",
    "### Eliminacion de variables\n",
    "A traves de sklearn tenemos varias funciones que nos van a permitir eliminar variables innesesarias.\n",
    "* Variables Dummy\n",
    "* Variables Categoricas\n",
    "* Variables Outlines"
   ]
  }
 ],
 "metadata": {
  "kernelspec": {
   "display_name": "Python 3",
   "language": "python",
   "name": "python3"
  },
  "language_info": {
   "codemirror_mode": {
    "name": "ipython",
    "version": 3
   },
   "file_extension": ".py",
   "mimetype": "text/x-python",
   "name": "python",
   "nbconvert_exporter": "python",
   "pygments_lexer": "ipython3",
   "version": "3.7.4"
  }
 },
 "nbformat": 4,
 "nbformat_minor": 2
}
