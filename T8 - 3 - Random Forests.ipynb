{
 "cells": [
  {
   "cell_type": "markdown",
   "metadata": {},
   "source": [
    "# Random Forests\n",
    "Es un algoritmo predictivo, entrando en la categoria de algoritmos de Machine Learning orientados de aprendizaje por union.\n",
    "\n",
    "En particular este modelo consiste en combinacion de modelos independientes que pueden ser similares o diferentes para resolver un problema de prediccion en particular.\n",
    "\n",
    "En si conciste en utilizar muchos arboles para clasificar y predicir, luego agarramos los datos de cada uno de estos y calculamos la media.\n",
    "\n",
    "#### Metodos de esamblaje\n",
    "* **Metodo del promedio:** se crean varios modelos similares e independientes y se hace un promedio de las predicciones de cada modelo.\n",
    "* **Metodo de impulso:** reducir el sesgo estimador combinado construyendolo de forma secuecion de los estimadores base. Asi conseguimos un modelo mas robusto a partir de varios mas debiles.\n",
    "\n",
    "Este modelo realmente se puede combinar a cualquier modelo de regresion o clasificacion. Es solo el promedio de muchos modelos.\n",
    "\n",
    "#### Caracteristicas:\n",
    "* No necesita ningun metodo de validacion cruzada, ya que se utiliza el metodo de **`bagging`**\n",
    "    * Con `n` observaciones en el dataset de entrenamiento `T` y `m` variables, decidimos hacer crecer `S` arboles en nuestro bosque. Cada uno sera creado por un dataset de entrenamiento separado.\n",
    "    * Las `n` observaciones para cada dataset se toma aleatoriamente con remplazo del dataset original.\n",
    "    * Cada dataset puede obtener observaciones duplicadas y algunas no aparecer nunca como entrenamiento.\n",
    "    * Estos dataset se llaman muestras de `bootstrap` o `bolsas`\n",
    "    \n",
    "    \n",
    "#### Algoritmo:\n",
    " * Tomamos una muestra aleatoria simple de tamanio n con remplazo.\n",
    " * Tomamos una muestra aleatoria simple de variables predictoras sin remplazo.\n",
    " * Construimos un arbol de regresion con los predictores elegidos en 2 y sin podar el arbol.\n",
    " * Clasificamos las observaciones fuera de la bolsa con dicho arbol y almacenamos el valor o la clase asignada para cada una.\n",
    " * Repetimos los 4 anteriores pasos un largo de veces para tener el bosque de arboles.\n",
    " * La prediccion final es el promedio de las observaciones de todos los arboles para clasificacion, la clase con mayoria de votos en el conjunto de arboles.\n",
    "\n",
    "# Random Forest para Regresion\n",
    "Vamos a utilizar el mismo dataset que trabajamos con anterioridad"
   ]
  },
  {
   "cell_type": "code",
   "execution_count": 16,
   "metadata": {},
   "outputs": [],
   "source": [
    "import pandas as pd\n",
    "import numpy as np\n",
    "from sklearn.tree import DecisionTreeRegressor"
   ]
  },
  {
   "cell_type": "code",
   "execution_count": 4,
   "metadata": {},
   "outputs": [
    {
     "data": {
      "text/plain": [
       "DecisionTreeRegressor(ccp_alpha=0.0, criterion='mse', max_depth=None,\n",
       "                      max_features=None, max_leaf_nodes=None,\n",
       "                      min_impurity_decrease=0.0, min_impurity_split=None,\n",
       "                      min_samples_leaf=10, min_samples_split=30,\n",
       "                      min_weight_fraction_leaf=0.0, presort='deprecated',\n",
       "                      random_state=0, splitter='best')"
      ]
     },
     "execution_count": 4,
     "metadata": {},
     "output_type": "execute_result"
    }
   ],
   "source": [
    "data = pd.read_csv('../python-ml-course-master/datasets/boston/Boston.csv')\n",
    "columns = data.columns.values.tolist()\n",
    "predicts = columns[:13]\n",
    "target = columns[13]\n",
    "x = data[predicts]\n",
    "y = data[target]\n",
    "regtree = DecisionTreeRegressor(min_samples_leaf=10,min_samples_split=30,random_state=0)\n",
    "regtree.fit(x,y)"
   ]
  },
  {
   "cell_type": "code",
   "execution_count": 11,
   "metadata": {},
   "outputs": [],
   "source": [
    "data['reg_tree'] = regtree.predict(data[predicts])"
   ]
  },
  {
   "cell_type": "code",
   "execution_count": 5,
   "metadata": {},
   "outputs": [],
   "source": [
    "from sklearn.ensemble import RandomForestRegressor"
   ]
  },
  {
   "cell_type": "code",
   "execution_count": 32,
   "metadata": {},
   "outputs": [
    {
     "data": {
      "text/plain": [
       "RandomForestRegressor(bootstrap=True, ccp_alpha=0.0, criterion='mse',\n",
       "                      max_depth=None, max_features='auto', max_leaf_nodes=None,\n",
       "                      max_samples=None, min_impurity_decrease=0.0,\n",
       "                      min_impurity_split=None, min_samples_leaf=1,\n",
       "                      min_samples_split=2, min_weight_fraction_leaf=0.0,\n",
       "                      n_estimators=100, n_jobs=2, oob_score=True,\n",
       "                      random_state=None, verbose=0, warm_start=False)"
      ]
     },
     "execution_count": 32,
     "metadata": {},
     "output_type": "execute_result"
    }
   ],
   "source": [
    "# n_jobs = Especificar la paralizacion de las tareas para hacer en el ordenador\n",
    "# n_estimadors = Cuantos arboles vamos a utilizar\n",
    "#El modelo va a hacer un muestro como quiera (el modelo se encarga)\n",
    "forest = RandomForestRegressor(n_jobs=2,n_estimators=100,oob_score=True)\n",
    "forest.fit(x,y)"
   ]
  },
  {
   "cell_type": "code",
   "execution_count": 33,
   "metadata": {},
   "outputs": [],
   "source": [
    "data['forest_pred'] = forest.oob_prediction_"
   ]
  },
  {
   "cell_type": "code",
   "execution_count": 34,
   "metadata": {},
   "outputs": [
    {
     "data": {
      "text/html": [
       "<div>\n",
       "<style scoped>\n",
       "    .dataframe tbody tr th:only-of-type {\n",
       "        vertical-align: middle;\n",
       "    }\n",
       "\n",
       "    .dataframe tbody tr th {\n",
       "        vertical-align: top;\n",
       "    }\n",
       "\n",
       "    .dataframe thead th {\n",
       "        text-align: right;\n",
       "    }\n",
       "</style>\n",
       "<table border=\"1\" class=\"dataframe\">\n",
       "  <thead>\n",
       "    <tr style=\"text-align: right;\">\n",
       "      <th></th>\n",
       "      <th>medv</th>\n",
       "      <th>reg_tree</th>\n",
       "      <th>forest_pred</th>\n",
       "    </tr>\n",
       "  </thead>\n",
       "  <tbody>\n",
       "    <tr>\n",
       "      <th>0</th>\n",
       "      <td>24.0</td>\n",
       "      <td>22.840000</td>\n",
       "      <td>27.385714</td>\n",
       "    </tr>\n",
       "    <tr>\n",
       "      <th>1</th>\n",
       "      <td>21.6</td>\n",
       "      <td>22.840000</td>\n",
       "      <td>22.217949</td>\n",
       "    </tr>\n",
       "    <tr>\n",
       "      <th>2</th>\n",
       "      <td>34.7</td>\n",
       "      <td>35.247826</td>\n",
       "      <td>34.320000</td>\n",
       "    </tr>\n",
       "    <tr>\n",
       "      <th>3</th>\n",
       "      <td>33.4</td>\n",
       "      <td>35.247826</td>\n",
       "      <td>35.041935</td>\n",
       "    </tr>\n",
       "    <tr>\n",
       "      <th>4</th>\n",
       "      <td>36.2</td>\n",
       "      <td>35.247826</td>\n",
       "      <td>34.546341</td>\n",
       "    </tr>\n",
       "    <tr>\n",
       "      <th>...</th>\n",
       "      <td>...</td>\n",
       "      <td>...</td>\n",
       "      <td>...</td>\n",
       "    </tr>\n",
       "    <tr>\n",
       "      <th>501</th>\n",
       "      <td>22.4</td>\n",
       "      <td>22.840000</td>\n",
       "      <td>23.986364</td>\n",
       "    </tr>\n",
       "    <tr>\n",
       "      <th>502</th>\n",
       "      <td>20.6</td>\n",
       "      <td>20.624138</td>\n",
       "      <td>19.128571</td>\n",
       "    </tr>\n",
       "    <tr>\n",
       "      <th>503</th>\n",
       "      <td>23.9</td>\n",
       "      <td>28.978261</td>\n",
       "      <td>26.720513</td>\n",
       "    </tr>\n",
       "    <tr>\n",
       "      <th>504</th>\n",
       "      <td>22.0</td>\n",
       "      <td>31.170000</td>\n",
       "      <td>26.115217</td>\n",
       "    </tr>\n",
       "    <tr>\n",
       "      <th>505</th>\n",
       "      <td>11.9</td>\n",
       "      <td>20.624138</td>\n",
       "      <td>20.711905</td>\n",
       "    </tr>\n",
       "  </tbody>\n",
       "</table>\n",
       "<p>506 rows × 3 columns</p>\n",
       "</div>"
      ],
      "text/plain": [
       "     medv   reg_tree  forest_pred\n",
       "0    24.0  22.840000    27.385714\n",
       "1    21.6  22.840000    22.217949\n",
       "2    34.7  35.247826    34.320000\n",
       "3    33.4  35.247826    35.041935\n",
       "4    36.2  35.247826    34.546341\n",
       "..    ...        ...          ...\n",
       "501  22.4  22.840000    23.986364\n",
       "502  20.6  20.624138    19.128571\n",
       "503  23.9  28.978261    26.720513\n",
       "504  22.0  31.170000    26.115217\n",
       "505  11.9  20.624138    20.711905\n",
       "\n",
       "[506 rows x 3 columns]"
      ]
     },
     "execution_count": 34,
     "metadata": {},
     "output_type": "execute_result"
    }
   ],
   "source": [
    "data[['medv','reg_tree','forest_pred']]"
   ]
  },
  {
   "cell_type": "code",
   "execution_count": 35,
   "metadata": {},
   "outputs": [],
   "source": [
    "data['pred1_err'] = (data['reg_tree'] - data['medv'])**2\n",
    "data['pred2_err'] = (data['forest_pred'] - data['medv'])**2"
   ]
  },
  {
   "cell_type": "code",
   "execution_count": 36,
   "metadata": {},
   "outputs": [
    {
     "name": "stdout",
     "output_type": "stream",
     "text": [
      "promedio de error cuadrado de regTree:  12.46593406540346\n",
      "promedio de error cuadrado de regForest:  10.08180178334945\n"
     ]
    }
   ],
   "source": [
    "print('promedio de error cuadrado de regTree: ',np.mean(data['pred1_err']))\n",
    "print('promedio de error cuadrado de regForest: ',np.mean(data['pred2_err']))"
   ]
  },
  {
   "cell_type": "code",
   "execution_count": 37,
   "metadata": {},
   "outputs": [
    {
     "data": {
      "text/plain": [
       "0.8805750439542778"
      ]
     },
     "execution_count": 37,
     "metadata": {},
     "output_type": "execute_result"
    }
   ],
   "source": [
    "# Es similar al coeficiente de determinacion que utilizabamos en regresion lineal iba entre 0 y 1\n",
    "#mientras mas cerca de 1 mejor\n",
    "forest.oob_score_"
   ]
  },
  {
   "cell_type": "markdown",
   "metadata": {},
   "source": [
    "# Random Forest para Regresion\n",
    "Vamos a utilizar el mismo dataset de las flores"
   ]
  },
  {
   "cell_type": "code",
   "execution_count": 41,
   "metadata": {},
   "outputs": [
    {
     "data": {
      "text/html": [
       "<div>\n",
       "<style scoped>\n",
       "    .dataframe tbody tr th:only-of-type {\n",
       "        vertical-align: middle;\n",
       "    }\n",
       "\n",
       "    .dataframe tbody tr th {\n",
       "        vertical-align: top;\n",
       "    }\n",
       "\n",
       "    .dataframe thead th {\n",
       "        text-align: right;\n",
       "    }\n",
       "</style>\n",
       "<table border=\"1\" class=\"dataframe\">\n",
       "  <thead>\n",
       "    <tr style=\"text-align: right;\">\n",
       "      <th>Predictions</th>\n",
       "      <th>setosa</th>\n",
       "      <th>versicolor</th>\n",
       "      <th>virginica</th>\n",
       "    </tr>\n",
       "    <tr>\n",
       "      <th>Actual</th>\n",
       "      <th></th>\n",
       "      <th></th>\n",
       "      <th></th>\n",
       "    </tr>\n",
       "  </thead>\n",
       "  <tbody>\n",
       "    <tr>\n",
       "      <th>setosa</th>\n",
       "      <td>50</td>\n",
       "      <td>0</td>\n",
       "      <td>0</td>\n",
       "    </tr>\n",
       "    <tr>\n",
       "      <th>versicolor</th>\n",
       "      <td>0</td>\n",
       "      <td>47</td>\n",
       "      <td>3</td>\n",
       "    </tr>\n",
       "    <tr>\n",
       "      <th>virginica</th>\n",
       "      <td>0</td>\n",
       "      <td>0</td>\n",
       "      <td>50</td>\n",
       "    </tr>\n",
       "  </tbody>\n",
       "</table>\n",
       "</div>"
      ],
      "text/plain": [
       "Predictions  setosa  versicolor  virginica\n",
       "Actual                                    \n",
       "setosa           50           0          0\n",
       "versicolor        0          47          3\n",
       "virginica         0           0         50"
      ]
     },
     "execution_count": 41,
     "metadata": {},
     "output_type": "execute_result"
    }
   ],
   "source": [
    "df = pd.read_csv('../python-ml-course-master/datasets/iris/iris.csv')\n",
    "columns = df.columns.values.tolist()\n",
    "predicts = columns[:4]\n",
    "target = columns[4]\n",
    "from sklearn.tree import DecisionTreeClassifier\n",
    "tree = DecisionTreeClassifier(criterion='entropy', min_samples_split=20,random_state=99)\n",
    "tree.fit(df[predicts],df[target])\n",
    "preds = tree.predict(df[predicts])\n",
    "pd.crosstab(df[target],preds,rownames=[\"Actual\"],colnames=['Predictions'])"
   ]
  },
  {
   "cell_type": "code",
   "execution_count": 42,
   "metadata": {},
   "outputs": [],
   "source": [
    "from sklearn.ensemble import RandomForestClassifier"
   ]
  },
  {
   "cell_type": "code",
   "execution_count": 49,
   "metadata": {},
   "outputs": [
    {
     "data": {
      "text/plain": [
       "RandomForestClassifier(bootstrap=True, ccp_alpha=0.0, class_weight=None,\n",
       "                       criterion='gini', max_depth=None, max_features='auto',\n",
       "                       max_leaf_nodes=None, max_samples=None,\n",
       "                       min_impurity_decrease=0.0, min_impurity_split=None,\n",
       "                       min_samples_leaf=1, min_samples_split=2,\n",
       "                       min_weight_fraction_leaf=0.0, n_estimators=100, n_jobs=2,\n",
       "                       oob_score=True, random_state=None, verbose=0,\n",
       "                       warm_start=False)"
      ]
     },
     "execution_count": 49,
     "metadata": {},
     "output_type": "execute_result"
    }
   ],
   "source": [
    "forest = RandomForestClassifier(n_jobs=2,n_estimators=100, oob_score=True)\n",
    "forest.fit(df[predicts],df[target])"
   ]
  },
  {
   "cell_type": "code",
   "execution_count": 50,
   "metadata": {},
   "outputs": [
    {
     "data": {
      "text/plain": [
       "0.96"
      ]
     },
     "execution_count": 50,
     "metadata": {},
     "output_type": "execute_result"
    }
   ],
   "source": [
    "forest.oob_score_"
   ]
  }
 ],
 "metadata": {
  "kernelspec": {
   "display_name": "Python 3",
   "language": "python",
   "name": "python3"
  },
  "language_info": {
   "codemirror_mode": {
    "name": "ipython",
    "version": 3
   },
   "file_extension": ".py",
   "mimetype": "text/x-python",
   "name": "python",
   "nbconvert_exporter": "python",
   "pygments_lexer": "ipython3",
   "version": "3.7.6"
  }
 },
 "nbformat": 4,
 "nbformat_minor": 4
}
