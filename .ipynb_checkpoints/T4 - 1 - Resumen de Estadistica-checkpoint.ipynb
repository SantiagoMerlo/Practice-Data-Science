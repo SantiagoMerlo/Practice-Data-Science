{
 "cells": [
  {
   "cell_type": "markdown",
   "metadata": {},
   "source": [
    "# En este Notebook recordaremos los conceptos mas importantes de estadistica para Machine Learning"
   ]
  },
  {
   "cell_type": "markdown",
   "metadata": {},
   "source": [
    "## Medidas centralizadas"
   ]
  },
  {
   "cell_type": "code",
   "execution_count": 1,
   "metadata": {},
   "outputs": [],
   "source": [
    "import math\n",
    "import numpy as np\n",
    "import pandas as pd"
   ]
  },
  {
   "cell_type": "code",
   "execution_count": 2,
   "metadata": {},
   "outputs": [],
   "source": [
    "#Create datasets\n",
    "\n",
    "import random\n",
    "random.seed(0)\n",
    "x = (random.sample(range(1000),60))"
   ]
  },
  {
   "cell_type": "markdown",
   "metadata": {},
   "source": [
    "### Media Aritmetica\n",
    "Es el promedio de todos los valores\n",
    "* Simbolo es igual a Me"
   ]
  },
  {
   "cell_type": "code",
   "execution_count": 3,
   "metadata": {},
   "outputs": [],
   "source": [
    "def media_arit(x):\n",
    "    media = 0\n",
    "    for i in x[:]:\n",
    "        media += i\n",
    "    return media/len(x)"
   ]
  },
  {
   "cell_type": "code",
   "execution_count": 4,
   "metadata": {},
   "outputs": [
    {
     "name": "stdout",
     "output_type": "stream",
     "text": [
      "559.4166666666666\n",
      "559.4166666666666\n"
     ]
    }
   ],
   "source": [
    "print(media_arit(x))\n",
    "print(np.mean(x))"
   ]
  },
  {
   "cell_type": "markdown",
   "metadata": {},
   "source": [
    "### Mediana:\n",
    "Es el valor medio de todo el arreglo de valores\n",
    "* Si no existe un unico valor medio, es el promedio de los dos valores\n",
    "* Simbolo igual a m"
   ]
  },
  {
   "cell_type": "code",
   "execution_count": 5,
   "metadata": {},
   "outputs": [],
   "source": [
    "def mediana(x):\n",
    "    x = sorted(x)\n",
    "    valor_medio = len(x)/2\n",
    "    if((valor_medio/int(valor_medio)) == 0.5):\n",
    "        valor_mayor = math.ceil(valor_medio)\n",
    "        valor_menor = math.floor(valor_medio)\n",
    "        return x[valor_mayor]/x[valor_menor]\n",
    "    else:\n",
    "        return x[int(valor_medio)]"
   ]
  },
  {
   "cell_type": "code",
   "execution_count": 6,
   "metadata": {},
   "outputs": [
    {
     "name": "stdout",
     "output_type": "stream",
     "text": [
      "565\n",
      "555.0\n"
     ]
    }
   ],
   "source": [
    "print(mediana(x))\n",
    "print(np.median(x))"
   ]
  },
  {
   "cell_type": "markdown",
   "metadata": {},
   "source": [
    "### Moda\n",
    "Es el valor que mas se repite\n",
    "* Simbolo igual a M"
   ]
  },
  {
   "cell_type": "code",
   "execution_count": 7,
   "metadata": {},
   "outputs": [],
   "source": [
    "def moda(x):\n",
    "    max = 0\n",
    "    for i in x:\n",
    "        if(x.count(i) > max):\n",
    "            max = x.count(i)\n",
    "            value = i\n",
    "    return value"
   ]
  },
  {
   "cell_type": "code",
   "execution_count": 8,
   "metadata": {},
   "outputs": [
    {
     "name": "stdout",
     "output_type": "stream",
     "text": [
      "864\n",
      "ModeResult(mode=array([41]), count=array([1]))\n"
     ]
    }
   ],
   "source": [
    "from scipy import stats\n",
    "print(moda(x))\n",
    "print(stats.mode(x))"
   ]
  },
  {
   "cell_type": "markdown",
   "metadata": {},
   "source": [
    "### Percentiles\n",
    "    P(X <= xp) = p / p ∈ [0,1]\n",
    "    \n",
    "Probabilida de que aparezca ese valor o uno menor"
   ]
  },
  {
   "cell_type": "code",
   "execution_count": 9,
   "metadata": {},
   "outputs": [
    {
     "name": "stdout",
     "output_type": "stream",
     "text": [
      "321.5\n"
     ]
    }
   ],
   "source": [
    "print(np.percentile(x,25)) #return 0.25, e.g 1er cuantil"
   ]
  },
  {
   "cell_type": "markdown",
   "metadata": {},
   "source": [
    "## Medidas de Dispercion\n",
    "\n",
    "La varianza y desviacion tipica, nos indica si los valores se desplazan mucho o poco con respecto de la media."
   ]
  },
  {
   "cell_type": "markdown",
   "metadata": {},
   "source": [
    "### Varianza\n",
    "\n",
    "S^2 = (Σ (Xi - XMe)^2 ) / (n - 1)"
   ]
  },
  {
   "cell_type": "code",
   "execution_count": 10,
   "metadata": {},
   "outputs": [],
   "source": [
    "def varianza(x):\n",
    "    var = 0\n",
    "    media = media_arit(x)\n",
    "    for i in x:\n",
    "        var = (i - media)**2 + var\n",
    "    return var/(len(x)-1)"
   ]
  },
  {
   "cell_type": "code",
   "execution_count": 11,
   "metadata": {},
   "outputs": [
    {
     "name": "stdout",
     "output_type": "stream",
     "text": [
      "83909.56920903958\n",
      "82511.07638888889\n"
     ]
    }
   ],
   "source": [
    "print(varianza(x))\n",
    "print(np.var(x))"
   ]
  },
  {
   "cell_type": "markdown",
   "metadata": {},
   "source": [
    "### Desviacion Tipica\n",
    "\n",
    "S = sqrt(s^2)"
   ]
  },
  {
   "cell_type": "code",
   "execution_count": 12,
   "metadata": {},
   "outputs": [],
   "source": [
    "def desv_tipica(x):\n",
    "    return varianza(x) ** 0.5"
   ]
  },
  {
   "cell_type": "code",
   "execution_count": 13,
   "metadata": {},
   "outputs": [
    {
     "name": "stdout",
     "output_type": "stream",
     "text": [
      "289.67148497744745\n",
      "287.2474131979066\n"
     ]
    }
   ],
   "source": [
    "print(desv_tipica(x))\n",
    "print(np.std(x))"
   ]
  },
  {
   "cell_type": "markdown",
   "metadata": {},
   "source": [
    "### Coeficiente de Variacion\n",
    "\n",
    "Cv = 8/Me * 100"
   ]
  },
  {
   "cell_type": "code",
   "execution_count": 14,
   "metadata": {},
   "outputs": [],
   "source": [
    "def coef_var(x):\n",
    "    return desv_tipica(x)/media_arit(x) * 100"
   ]
  },
  {
   "cell_type": "code",
   "execution_count": 15,
   "metadata": {},
   "outputs": [
    {
     "name": "stdout",
     "output_type": "stream",
     "text": [
      "51.78098941947519\n",
      "51.34766808245016\n"
     ]
    }
   ],
   "source": [
    "print(coef_var(x))\n",
    "print((np.std(x)/np.mean(x))*100)"
   ]
  },
  {
   "cell_type": "markdown",
   "metadata": {},
   "source": [
    "## Medidas Asimetricas\n",
    "\n",
    "Momentos de orden r, respecto a la media El momento de orden r. Son los momentos de distribucion respecto de la media"
   ]
  },
  {
   "cell_type": "code",
   "execution_count": 27,
   "metadata": {},
   "outputs": [],
   "source": [
    "def momento_de_orde(x,r):\n",
    "    media = media_arit(x)\n",
    "    aux = 0\n",
    "    for i in x:\n",
    "        aux = (i - media)**r + aux\n",
    "    if(r > 3):\n",
    "        n = r - 1\n",
    "    else:\n",
    "        n=r\n",
    "    return aux/(len(x)* (desv_tipica(x)**r)) - n\n",
    "##para caso de orden superior a 3"
   ]
  },
  {
   "cell_type": "markdown",
   "metadata": {},
   "source": [
    "### Asimetria de Fisher\n",
    "\n",
    "### momento de orden 3\n",
    "\n",
    "CAf = (Σ (Xi - XMe)^3 ) / (n * S^3)\n",
    "\n",
    "* Si el coeficiente es = 0; Significa que vuestra función es perfectamente simetríca, se distribuye igual, por ejemplo la distribución normal. Raro es que salga cero\n",
    "* Si el coeficiente es >0; Significa que cuánto más positivo es este valor más desplazada está la distribución hacía la izquierda, de modo que tenemos una asimetría positiva, nos queda la media muy por encima de la distribución.\n",
    "* Si el el coeficiente es <0; Significa que cuánto más negativo es este valor más desplazado está la distribución hacía la derecha, de modo que tenemos una asimetría negativa, nos queda la media muy por debajo de la distribución."
   ]
  },
  {
   "cell_type": "code",
   "execution_count": 16,
   "metadata": {},
   "outputs": [],
   "source": [
    "import scipy.stats as sp # para modelos de asimetria"
   ]
  },
  {
   "cell_type": "code",
   "execution_count": 28,
   "metadata": {},
   "outputs": [
    {
     "name": "stdout",
     "output_type": "stream",
     "text": [
      "-3.109391770828827\n",
      "-0.1121846689850033\n"
     ]
    }
   ],
   "source": [
    "# 3rd Moment: Asimetría de Fisher\n",
    "Asimetria=sp.skew(x)\n",
    "print(momento_de_orde(x,3))\n",
    "print(Asimetria)"
   ]
  },
  {
   "cell_type": "markdown",
   "metadata": {},
   "source": [
    "### Curtosis\n",
    "\n",
    "#### momento de orden 4\n",
    "\n",
    "* =0 Mesocúrtica Distribución perfecta, asemejada a la distribución normal en forma, no en valores. Está compensado tanto el centro como las colas.\n",
    "* />0 Leptocúrtica Distribución donde se le concentran mucho los datos en el valor central, y apenas tiene cola.\n",
    "* <0 Platicúrtica Distribución donde hay pocos valores que se concentren respecto al valor central (media) y hay muchos que aparecen hacia las colas, se concentran más en los laterales. Existe valor central, pero también hay mucha presencia de colas directamente en la distribución de nuestros datos."
   ]
  },
  {
   "cell_type": "code",
   "execution_count": 29,
   "metadata": {},
   "outputs": [
    {
     "name": "stdout",
     "output_type": "stream",
     "text": [
      "-1.2992275879771986\n",
      "-1.2410856985687766\n"
     ]
    }
   ],
   "source": [
    "# 4th Moment: Curtosis\n",
    "curtosis=sp.kurtosis(x)\n",
    "print(momento_de_orde(x,4))\n",
    "print(curtosis)"
   ]
  },
  {
   "cell_type": "code",
   "execution_count": 32,
   "metadata": {},
   "outputs": [],
   "source": [
    "import matplotlib.pyplot as plt\n",
    "%matplotlib inline"
   ]
  },
  {
   "cell_type": "code",
   "execution_count": 33,
   "metadata": {},
   "outputs": [
    {
     "data": {
      "text/plain": [
       "(array([ 5.,  5.,  6.,  5.,  6.,  6.,  5.,  4.,  7., 11.]),\n",
       " array([ 41., 136., 231., 326., 421., 516., 611., 706., 801., 896., 991.]),\n",
       " <a list of 10 Patch objects>)"
      ]
     },
     "execution_count": 33,
     "metadata": {},
     "output_type": "execute_result"
    },
    {
     "data": {
      "image/png": "[encoded data removed]",
      "text/plain": [
       "<Figure size 432x288 with 1 Axes>"
      ]
     },
     "metadata": {
      "needs_background": "light"
     },
     "output_type": "display_data"
    }
   ],
   "source": [
    "plt.hist(x)"
   ]
  },
  {
   "cell_type": "markdown",
   "metadata": {},
   "source": [
    "# Muestreo\n",
    "Poblacion = S\n",
    "\n",
    "Muestra X subconjunto de S\n",
    "\n",
    "{ X1 , X2 , ... , Xn} = X\n",
    "\n",
    "n = cantidad de muestra\n",
    "\n",
    "Simbolos matematicos:\n",
    "* http://www.fao.org/3/w5448s/w5448s02.htm\n",
    "* Principales:\n",
    "    * Mu: Media Poblacion\n",
    "    * Sigma : Desviacion Tipica\n",
    "    * p : Proporcion Poblacion\n",
    "    * x' : Media Muestral\n",
    "    * s' : Desviacion Tipica\n",
    "    * p' : Proporcion Muestral"
   ]
  },
  {
   "cell_type": "markdown",
   "metadata": {},
   "source": [
    "## Teorema central de muestreo\n",
    "\n",
    "Nosotros podemos obtener una muestra de distribucion de la poblacion donde el grafico sera desconocido, sin embargo si calculamos la media de esa muestra i y la comparamos con nuestras n muestras vamos a obtener una *campana de gauss* (distribucion de la media de la muestras)"
   ]
  },
  {
   "cell_type": "markdown",
   "metadata": {},
   "source": [
    "* tenemos **[x1, x2, .. xn]** y **p** que va a ser el valor que le corresponde a cada **xi**\n",
    "* con ese conjunto de valores obtenemos un xMedia y un pMedia. Al conjunto de esos valores vamos a obtener **Mu** (la media de medias) y la desviacion Sigma dividio raiz de **N**"
   ]
  },
  {
   "cell_type": "markdown",
   "metadata": {},
   "source": [
    "### El contraste de hipotesis:\n",
    "\n",
    "#### Contrastes bilateral:\n",
    "\n",
    "* H0 = HIpotesis Nula, lo que intentamos hacer es determinar si cierta hipotesis es real o no.\n",
    "    * Todo el mundo quiere esta hipotesis porque se pone de acuerdo con lo que uno pensaba\n",
    "* Luego tenemos a H1 que vendria a ser la hipotesis alternativa, un conjunto de elementos que no fueron previamente analizados\n",
    "\n",
    "#### Contraste Unilaterales\n",
    "\n",
    "* H0 = Mu <= Mu0\n",
    "* H1 = Mu > Mu0\n",
    "* H0 = Mu => Mu0\n",
    "* H1 = Mu < Mu0\n",
    "\n",
    "Valores que no mienten estadisticamente o varian teniendo en cuenta la realidad"
   ]
  },
  {
   "cell_type": "markdown",
   "metadata": {},
   "source": [
    "**CASO DE UN SIGMA CONOCIDO:**\n",
    "\n",
    "   * X ~ Normal(Mu0,Simga)\n",
    "   * Z = XMe - MuXMe / SigmaMe\n",
    "\n",
    "**CASO CONTRARIO:**\n",
    "   * X ~ Normal(Mu0,?)\n",
    "   * **S** = Sum(Xi - MeMuestraXi)^2 / N - 1 --> Sigma\n",
    "   * Y los datos se distribuyen segun una distribucion **T**\n",
    "   * T = XMe - Mu / (S/sqrt(n)"
   ]
  },
  {
   "cell_type": "markdown",
   "metadata": {},
   "source": [
    "#### Calculo de probabilidad\n",
    "    P( X < Z1) = p1\n",
    "\n"
   ]
  },
  {
   "cell_type": "markdown",
   "metadata": {},
   "source": [
    "## Test de Chi Cuadrado\n",
    "\n",
    "https://es.wikipedia.org/wiki/Distribuci%C3%B3n_%CF%87%C2%B2\n",
    "\n",
    "#### Ecuacion:\n",
    "\n",
    "X^2 = Sum(Oi - Ei)^2 / Ei\n",
    "\n",
    "Ei = Esperados\n",
    "\n",
    "Oi = Observados\n",
    "\n",
    "df = Bondad de ajuste\n",
    "df = Ncategorias - 1\n",
    "\n",
    "Dos variables:\n",
    "* Test de Homogeneidad\n",
    "* Test de Independencia\n",
    "\n",
    "df = (Nrow - 1) * (Ncol -1) "
   ]
  }
 ],
 "metadata": {
  "kernelspec": {
   "display_name": "Python 3",
   "language": "python",
   "name": "python3"
  },
  "language_info": {
   "codemirror_mode": {
    "name": "ipython",
    "version": 3
   },
   "file_extension": ".py",
   "mimetype": "text/x-python",
   "name": "python",
   "nbconvert_exporter": "python",
   "pygments_lexer": "ipython3",
   "version": "3.7.4"
  }
 },
 "nbformat": 4,
 "nbformat_minor": 2
}
