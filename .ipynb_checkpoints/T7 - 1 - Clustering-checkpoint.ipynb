{
 "cells": [
  {
   "cell_type": "markdown",
   "metadata": {},
   "source": [
    "# Algoritmos No Supervisados\n",
    "## Clustering\n",
    "`Clasificacion`: Lo que buscamos es agrupar datos que tengan cierta semejanza o similutudes. Lo que no entre dentro de estos campos tiene que ser muy difirente e incluso entre ellos.\n",
    "\n",
    "`Propiedades`: \n",
    "* Los clusters deben ser identificables y de tamanio considerable.\n",
    "* Los puntos de un mismo cluster deben ser compactos y tener intersecciones minimas con cualquier otro cluster\n",
    "* Los cluster deben tener sentido desde el contexto de analisis. Los puntos de un mismo cluster deben tener propiedades comunes en el contexto estudiado.\n",
    "\n",
    "\n",
    "### Matematica de Clustering\n",
    "\n",
    "Calcular la distancia n-dimensional entre los puntos. Mientras mas cercanos esten mas relacion tienen.\n",
    "\n",
    "* n cantidad de columnas\n",
    "* N cantidad de filas\n",
    "* X dataset y xi\n",
    "\n",
    "#### `Distancia de Manhatta`\n",
    "Consiste en la diferencia entre dos usuarios por categoria (valor absoluto). Luego realizar la sumatoria de todas las categorias. Esto nos va a dar un valor que va a ser la distancia entre ambos elementos.\n",
    "#### `Distancia Euclidea`\n",
    "Es el concepto de distancia en linea recta (pensado desde una perspectiva de pitagoras) Es la raiz de la sumatoria de las sumas de las diferencias al cuadrado.\n",
    "#### `Distancia de Minkowski`\n",
    "Este modelo se puede aplicar utilizando `distance_matrix` del paquete `scipy.spatial` de python. Esto finalmente se resume en las `matrices de distancias`.\n",
    "\n",
    "`pd.DataFrame(distance_matrix(data['movie'],data['movie'],p=2),index=data['id'],columns=data['id']`\n",
    "\n",
    "#### Normalizar las distancias\n",
    "La existencia de datos extremadamente grandes pueden generar problemas de entendimiento dentro de la tabla (por ejemplo, se compara ganancias y eso genera que alguien que tenga datos completamente similares pero las ganancias de ambos es muy significativa genera que el valor sea mucho mas grande).La solucion, consiste en darle a todos los datos el mismo rango de valores. **valores que dominan a otros por cantidad**\n",
    "\n",
    "Esto se puede hacer buscando el valor mas grande de cada fila y dividir todos los elementos por ese. Siendo el valor maximo 1 y el minimo 0.\n",
    "\n",
    "### Distancias"
   ]
  },
  {
   "cell_type": "code",
   "execution_count": 4,
   "metadata": {},
   "outputs": [],
   "source": [
    "import numpy as np\n",
    "import pandas as pd\n",
    "from scipy.spatial import distance_matrix"
   ]
  },
  {
   "cell_type": "code",
   "execution_count": 9,
   "metadata": {},
   "outputs": [
    {
     "data": {
      "text/html": [
       "<div>\n",
       "<style scoped>\n",
       "    .dataframe tbody tr th:only-of-type {\n",
       "        vertical-align: middle;\n",
       "    }\n",
       "\n",
       "    .dataframe tbody tr th {\n",
       "        vertical-align: top;\n",
       "    }\n",
       "\n",
       "    .dataframe thead th {\n",
       "        text-align: right;\n",
       "    }\n",
       "</style>\n",
       "<table border=\"1\" class=\"dataframe\">\n",
       "  <thead>\n",
       "    <tr style=\"text-align: right;\">\n",
       "      <th></th>\n",
       "      <th>user_id</th>\n",
       "      <th>star_wars</th>\n",
       "      <th>lord_of_the_rings</th>\n",
       "      <th>harry_potter</th>\n",
       "    </tr>\n",
       "  </thead>\n",
       "  <tbody>\n",
       "    <tr>\n",
       "      <th>0</th>\n",
       "      <td>1</td>\n",
       "      <td>1.2</td>\n",
       "      <td>4.9</td>\n",
       "      <td>2.1</td>\n",
       "    </tr>\n",
       "    <tr>\n",
       "      <th>1</th>\n",
       "      <td>2</td>\n",
       "      <td>2.1</td>\n",
       "      <td>8.1</td>\n",
       "      <td>7.9</td>\n",
       "    </tr>\n",
       "    <tr>\n",
       "      <th>2</th>\n",
       "      <td>3</td>\n",
       "      <td>7.4</td>\n",
       "      <td>3.0</td>\n",
       "      <td>9.9</td>\n",
       "    </tr>\n",
       "    <tr>\n",
       "      <th>3</th>\n",
       "      <td>4</td>\n",
       "      <td>5.6</td>\n",
       "      <td>0.5</td>\n",
       "      <td>1.8</td>\n",
       "    </tr>\n",
       "    <tr>\n",
       "      <th>4</th>\n",
       "      <td>5</td>\n",
       "      <td>1.5</td>\n",
       "      <td>8.3</td>\n",
       "      <td>2.6</td>\n",
       "    </tr>\n",
       "    <tr>\n",
       "      <th>5</th>\n",
       "      <td>6</td>\n",
       "      <td>2.5</td>\n",
       "      <td>3.7</td>\n",
       "      <td>6.5</td>\n",
       "    </tr>\n",
       "    <tr>\n",
       "      <th>6</th>\n",
       "      <td>7</td>\n",
       "      <td>2.0</td>\n",
       "      <td>8.2</td>\n",
       "      <td>8.5</td>\n",
       "    </tr>\n",
       "    <tr>\n",
       "      <th>7</th>\n",
       "      <td>8</td>\n",
       "      <td>1.8</td>\n",
       "      <td>9.3</td>\n",
       "      <td>4.5</td>\n",
       "    </tr>\n",
       "    <tr>\n",
       "      <th>8</th>\n",
       "      <td>9</td>\n",
       "      <td>2.6</td>\n",
       "      <td>1.7</td>\n",
       "      <td>3.1</td>\n",
       "    </tr>\n",
       "    <tr>\n",
       "      <th>9</th>\n",
       "      <td>10</td>\n",
       "      <td>1.5</td>\n",
       "      <td>4.7</td>\n",
       "      <td>2.3</td>\n",
       "    </tr>\n",
       "  </tbody>\n",
       "</table>\n",
       "</div>"
      ],
      "text/plain": [
       "   user_id  star_wars  lord_of_the_rings  harry_potter\n",
       "0        1        1.2                4.9           2.1\n",
       "1        2        2.1                8.1           7.9\n",
       "2        3        7.4                3.0           9.9\n",
       "3        4        5.6                0.5           1.8\n",
       "4        5        1.5                8.3           2.6\n",
       "5        6        2.5                3.7           6.5\n",
       "6        7        2.0                8.2           8.5\n",
       "7        8        1.8                9.3           4.5\n",
       "8        9        2.6                1.7           3.1\n",
       "9       10        1.5                4.7           2.3"
      ]
     },
     "execution_count": 9,
     "metadata": {},
     "output_type": "execute_result"
    }
   ],
   "source": [
    "data = pd.read_csv('../python-ml-course-master/datasets/movies/movies.csv',sep=\";\")\n",
    "data"
   ]
  },
  {
   "cell_type": "code",
   "execution_count": 12,
   "metadata": {},
   "outputs": [
    {
     "data": {
      "text/plain": [
       "['star_wars', 'lord_of_the_rings', 'harry_potter']"
      ]
     },
     "execution_count": 12,
     "metadata": {},
     "output_type": "execute_result"
    }
   ],
   "source": [
    "movies = data.columns.values.tolist()[1:]\n",
    "movies"
   ]
  },
  {
   "cell_type": "code",
   "execution_count": 14,
   "metadata": {},
   "outputs": [],
   "source": [
    "dd1 = distance_matrix(data[movies],data[movies],p=1) #distancia de manhattan\n",
    "dd2 = distance_matrix(data[movies],data[movies],p=2) #distancia de minkowski\n",
    "dd3 = distance_matrix(data[movies],data[movies],p=10)"
   ]
  },
  {
   "cell_type": "code",
   "execution_count": 15,
   "metadata": {},
   "outputs": [],
   "source": [
    "def dm_to_df(dd,col_names):\n",
    "    import pandas as pd\n",
    "    return pd.DataFrame(dd,index=col_names,columns=col_names)"
   ]
  },
  {
   "cell_type": "code",
   "execution_count": 16,
   "metadata": {},
   "outputs": [],
   "source": [
    "df1 = dm_to_df(dd1,data['user_id'])\n",
    "df2 = dm_to_df(dd2,data['user_id'])\n",
    "df3 = dm_to_df(dd3,data['user_id'])"
   ]
  },
  {
   "cell_type": "code",
   "execution_count": 17,
   "metadata": {},
   "outputs": [
    {
     "data": {
      "text/html": [
       "<div>\n",
       "<style scoped>\n",
       "    .dataframe tbody tr th:only-of-type {\n",
       "        vertical-align: middle;\n",
       "    }\n",
       "\n",
       "    .dataframe tbody tr th {\n",
       "        vertical-align: top;\n",
       "    }\n",
       "\n",
       "    .dataframe thead th {\n",
       "        text-align: right;\n",
       "    }\n",
       "</style>\n",
       "<table border=\"1\" class=\"dataframe\">\n",
       "  <thead>\n",
       "    <tr style=\"text-align: right;\">\n",
       "      <th>user_id</th>\n",
       "      <th>1</th>\n",
       "      <th>2</th>\n",
       "      <th>3</th>\n",
       "      <th>4</th>\n",
       "      <th>5</th>\n",
       "      <th>6</th>\n",
       "      <th>7</th>\n",
       "      <th>8</th>\n",
       "      <th>9</th>\n",
       "      <th>10</th>\n",
       "    </tr>\n",
       "    <tr>\n",
       "      <th>user_id</th>\n",
       "      <th></th>\n",
       "      <th></th>\n",
       "      <th></th>\n",
       "      <th></th>\n",
       "      <th></th>\n",
       "      <th></th>\n",
       "      <th></th>\n",
       "      <th></th>\n",
       "      <th></th>\n",
       "      <th></th>\n",
       "    </tr>\n",
       "  </thead>\n",
       "  <tbody>\n",
       "    <tr>\n",
       "      <th>1</th>\n",
       "      <td>0.0</td>\n",
       "      <td>9.9</td>\n",
       "      <td>15.9</td>\n",
       "      <td>9.1</td>\n",
       "      <td>4.2</td>\n",
       "      <td>6.9</td>\n",
       "      <td>10.5</td>\n",
       "      <td>7.4</td>\n",
       "      <td>5.6</td>\n",
       "      <td>0.7</td>\n",
       "    </tr>\n",
       "    <tr>\n",
       "      <th>2</th>\n",
       "      <td>9.9</td>\n",
       "      <td>0.0</td>\n",
       "      <td>12.4</td>\n",
       "      <td>17.2</td>\n",
       "      <td>6.1</td>\n",
       "      <td>6.2</td>\n",
       "      <td>0.8</td>\n",
       "      <td>4.9</td>\n",
       "      <td>11.7</td>\n",
       "      <td>9.6</td>\n",
       "    </tr>\n",
       "    <tr>\n",
       "      <th>3</th>\n",
       "      <td>15.9</td>\n",
       "      <td>12.4</td>\n",
       "      <td>0.0</td>\n",
       "      <td>12.4</td>\n",
       "      <td>18.5</td>\n",
       "      <td>9.0</td>\n",
       "      <td>12.0</td>\n",
       "      <td>17.3</td>\n",
       "      <td>12.9</td>\n",
       "      <td>15.2</td>\n",
       "    </tr>\n",
       "    <tr>\n",
       "      <th>4</th>\n",
       "      <td>9.1</td>\n",
       "      <td>17.2</td>\n",
       "      <td>12.4</td>\n",
       "      <td>0.0</td>\n",
       "      <td>12.7</td>\n",
       "      <td>11.0</td>\n",
       "      <td>18.0</td>\n",
       "      <td>15.3</td>\n",
       "      <td>5.5</td>\n",
       "      <td>8.8</td>\n",
       "    </tr>\n",
       "    <tr>\n",
       "      <th>5</th>\n",
       "      <td>4.2</td>\n",
       "      <td>6.1</td>\n",
       "      <td>18.5</td>\n",
       "      <td>12.7</td>\n",
       "      <td>0.0</td>\n",
       "      <td>9.5</td>\n",
       "      <td>6.5</td>\n",
       "      <td>3.2</td>\n",
       "      <td>8.2</td>\n",
       "      <td>3.9</td>\n",
       "    </tr>\n",
       "    <tr>\n",
       "      <th>6</th>\n",
       "      <td>6.9</td>\n",
       "      <td>6.2</td>\n",
       "      <td>9.0</td>\n",
       "      <td>11.0</td>\n",
       "      <td>9.5</td>\n",
       "      <td>0.0</td>\n",
       "      <td>7.0</td>\n",
       "      <td>8.3</td>\n",
       "      <td>5.5</td>\n",
       "      <td>6.2</td>\n",
       "    </tr>\n",
       "    <tr>\n",
       "      <th>7</th>\n",
       "      <td>10.5</td>\n",
       "      <td>0.8</td>\n",
       "      <td>12.0</td>\n",
       "      <td>18.0</td>\n",
       "      <td>6.5</td>\n",
       "      <td>7.0</td>\n",
       "      <td>0.0</td>\n",
       "      <td>5.3</td>\n",
       "      <td>12.5</td>\n",
       "      <td>10.2</td>\n",
       "    </tr>\n",
       "    <tr>\n",
       "      <th>8</th>\n",
       "      <td>7.4</td>\n",
       "      <td>4.9</td>\n",
       "      <td>17.3</td>\n",
       "      <td>15.3</td>\n",
       "      <td>3.2</td>\n",
       "      <td>8.3</td>\n",
       "      <td>5.3</td>\n",
       "      <td>0.0</td>\n",
       "      <td>9.8</td>\n",
       "      <td>7.1</td>\n",
       "    </tr>\n",
       "    <tr>\n",
       "      <th>9</th>\n",
       "      <td>5.6</td>\n",
       "      <td>11.7</td>\n",
       "      <td>12.9</td>\n",
       "      <td>5.5</td>\n",
       "      <td>8.2</td>\n",
       "      <td>5.5</td>\n",
       "      <td>12.5</td>\n",
       "      <td>9.8</td>\n",
       "      <td>0.0</td>\n",
       "      <td>4.9</td>\n",
       "    </tr>\n",
       "    <tr>\n",
       "      <th>10</th>\n",
       "      <td>0.7</td>\n",
       "      <td>9.6</td>\n",
       "      <td>15.2</td>\n",
       "      <td>8.8</td>\n",
       "      <td>3.9</td>\n",
       "      <td>6.2</td>\n",
       "      <td>10.2</td>\n",
       "      <td>7.1</td>\n",
       "      <td>4.9</td>\n",
       "      <td>0.0</td>\n",
       "    </tr>\n",
       "  </tbody>\n",
       "</table>\n",
       "</div>"
      ],
      "text/plain": [
       "user_id    1     2     3     4     5     6     7     8     9     10\n",
       "user_id                                                            \n",
       "1         0.0   9.9  15.9   9.1   4.2   6.9  10.5   7.4   5.6   0.7\n",
       "2         9.9   0.0  12.4  17.2   6.1   6.2   0.8   4.9  11.7   9.6\n",
       "3        15.9  12.4   0.0  12.4  18.5   9.0  12.0  17.3  12.9  15.2\n",
       "4         9.1  17.2  12.4   0.0  12.7  11.0  18.0  15.3   5.5   8.8\n",
       "5         4.2   6.1  18.5  12.7   0.0   9.5   6.5   3.2   8.2   3.9\n",
       "6         6.9   6.2   9.0  11.0   9.5   0.0   7.0   8.3   5.5   6.2\n",
       "7        10.5   0.8  12.0  18.0   6.5   7.0   0.0   5.3  12.5  10.2\n",
       "8         7.4   4.9  17.3  15.3   3.2   8.3   5.3   0.0   9.8   7.1\n",
       "9         5.6  11.7  12.9   5.5   8.2   5.5  12.5   9.8   0.0   4.9\n",
       "10        0.7   9.6  15.2   8.8   3.9   6.2  10.2   7.1   4.9   0.0"
      ]
     },
     "execution_count": 17,
     "metadata": {},
     "output_type": "execute_result"
    }
   ],
   "source": [
    "df1"
   ]
  },
  {
   "cell_type": "code",
   "execution_count": 18,
   "metadata": {},
   "outputs": [
    {
     "data": {
      "text/html": [
       "<div>\n",
       "<style scoped>\n",
       "    .dataframe tbody tr th:only-of-type {\n",
       "        vertical-align: middle;\n",
       "    }\n",
       "\n",
       "    .dataframe tbody tr th {\n",
       "        vertical-align: top;\n",
       "    }\n",
       "\n",
       "    .dataframe thead th {\n",
       "        text-align: right;\n",
       "    }\n",
       "</style>\n",
       "<table border=\"1\" class=\"dataframe\">\n",
       "  <thead>\n",
       "    <tr style=\"text-align: right;\">\n",
       "      <th>user_id</th>\n",
       "      <th>1</th>\n",
       "      <th>2</th>\n",
       "      <th>3</th>\n",
       "      <th>4</th>\n",
       "      <th>5</th>\n",
       "      <th>6</th>\n",
       "      <th>7</th>\n",
       "      <th>8</th>\n",
       "      <th>9</th>\n",
       "      <th>10</th>\n",
       "    </tr>\n",
       "    <tr>\n",
       "      <th>user_id</th>\n",
       "      <th></th>\n",
       "      <th></th>\n",
       "      <th></th>\n",
       "      <th></th>\n",
       "      <th></th>\n",
       "      <th></th>\n",
       "      <th></th>\n",
       "      <th></th>\n",
       "      <th></th>\n",
       "      <th></th>\n",
       "    </tr>\n",
       "  </thead>\n",
       "  <tbody>\n",
       "    <tr>\n",
       "      <th>1</th>\n",
       "      <td>0.000000</td>\n",
       "      <td>6.685058</td>\n",
       "      <td>10.143471</td>\n",
       "      <td>6.229767</td>\n",
       "      <td>3.449638</td>\n",
       "      <td>4.742362</td>\n",
       "      <td>7.244998</td>\n",
       "      <td>5.047772</td>\n",
       "      <td>3.633180</td>\n",
       "      <td>0.412311</td>\n",
       "    </tr>\n",
       "    <tr>\n",
       "      <th>2</th>\n",
       "      <td>6.685058</td>\n",
       "      <td>0.000000</td>\n",
       "      <td>7.622336</td>\n",
       "      <td>10.354709</td>\n",
       "      <td>5.337602</td>\n",
       "      <td>4.634652</td>\n",
       "      <td>0.616441</td>\n",
       "      <td>3.618011</td>\n",
       "      <td>8.015610</td>\n",
       "      <td>6.578754</td>\n",
       "    </tr>\n",
       "    <tr>\n",
       "      <th>3</th>\n",
       "      <td>10.143471</td>\n",
       "      <td>7.622336</td>\n",
       "      <td>0.000000</td>\n",
       "      <td>8.666026</td>\n",
       "      <td>10.779147</td>\n",
       "      <td>6.004998</td>\n",
       "      <td>7.626270</td>\n",
       "      <td>10.010494</td>\n",
       "      <td>8.424369</td>\n",
       "      <td>9.770363</td>\n",
       "    </tr>\n",
       "    <tr>\n",
       "      <th>4</th>\n",
       "      <td>6.229767</td>\n",
       "      <td>10.354709</td>\n",
       "      <td>8.666026</td>\n",
       "      <td>0.000000</td>\n",
       "      <td>8.848164</td>\n",
       "      <td>6.476110</td>\n",
       "      <td>10.823123</td>\n",
       "      <td>9.958414</td>\n",
       "      <td>3.482815</td>\n",
       "      <td>5.890671</td>\n",
       "    </tr>\n",
       "    <tr>\n",
       "      <th>5</th>\n",
       "      <td>3.449638</td>\n",
       "      <td>5.337602</td>\n",
       "      <td>10.779147</td>\n",
       "      <td>8.848164</td>\n",
       "      <td>0.000000</td>\n",
       "      <td>6.113101</td>\n",
       "      <td>5.921993</td>\n",
       "      <td>2.167948</td>\n",
       "      <td>6.709694</td>\n",
       "      <td>3.612478</td>\n",
       "    </tr>\n",
       "    <tr>\n",
       "      <th>6</th>\n",
       "      <td>4.742362</td>\n",
       "      <td>4.634652</td>\n",
       "      <td>6.004998</td>\n",
       "      <td>6.476110</td>\n",
       "      <td>6.113101</td>\n",
       "      <td>0.000000</td>\n",
       "      <td>4.949747</td>\n",
       "      <td>5.987487</td>\n",
       "      <td>3.945884</td>\n",
       "      <td>4.431704</td>\n",
       "    </tr>\n",
       "    <tr>\n",
       "      <th>7</th>\n",
       "      <td>7.244998</td>\n",
       "      <td>0.616441</td>\n",
       "      <td>7.626270</td>\n",
       "      <td>10.823123</td>\n",
       "      <td>5.921993</td>\n",
       "      <td>4.949747</td>\n",
       "      <td>0.000000</td>\n",
       "      <td>4.153312</td>\n",
       "      <td>8.471718</td>\n",
       "      <td>7.137226</td>\n",
       "    </tr>\n",
       "    <tr>\n",
       "      <th>8</th>\n",
       "      <td>5.047772</td>\n",
       "      <td>3.618011</td>\n",
       "      <td>10.010494</td>\n",
       "      <td>9.958414</td>\n",
       "      <td>2.167948</td>\n",
       "      <td>5.987487</td>\n",
       "      <td>4.153312</td>\n",
       "      <td>0.000000</td>\n",
       "      <td>7.769170</td>\n",
       "      <td>5.107837</td>\n",
       "    </tr>\n",
       "    <tr>\n",
       "      <th>9</th>\n",
       "      <td>3.633180</td>\n",
       "      <td>8.015610</td>\n",
       "      <td>8.424369</td>\n",
       "      <td>3.482815</td>\n",
       "      <td>6.709694</td>\n",
       "      <td>3.945884</td>\n",
       "      <td>8.471718</td>\n",
       "      <td>7.769170</td>\n",
       "      <td>0.000000</td>\n",
       "      <td>3.293934</td>\n",
       "    </tr>\n",
       "    <tr>\n",
       "      <th>10</th>\n",
       "      <td>0.412311</td>\n",
       "      <td>6.578754</td>\n",
       "      <td>9.770363</td>\n",
       "      <td>5.890671</td>\n",
       "      <td>3.612478</td>\n",
       "      <td>4.431704</td>\n",
       "      <td>7.137226</td>\n",
       "      <td>5.107837</td>\n",
       "      <td>3.293934</td>\n",
       "      <td>0.000000</td>\n",
       "    </tr>\n",
       "  </tbody>\n",
       "</table>\n",
       "</div>"
      ],
      "text/plain": [
       "user_id         1          2          3          4          5         6   \\\n",
       "user_id                                                                    \n",
       "1         0.000000   6.685058  10.143471   6.229767   3.449638  4.742362   \n",
       "2         6.685058   0.000000   7.622336  10.354709   5.337602  4.634652   \n",
       "3        10.143471   7.622336   0.000000   8.666026  10.779147  6.004998   \n",
       "4         6.229767  10.354709   8.666026   0.000000   8.848164  6.476110   \n",
       "5         3.449638   5.337602  10.779147   8.848164   0.000000  6.113101   \n",
       "6         4.742362   4.634652   6.004998   6.476110   6.113101  0.000000   \n",
       "7         7.244998   0.616441   7.626270  10.823123   5.921993  4.949747   \n",
       "8         5.047772   3.618011  10.010494   9.958414   2.167948  5.987487   \n",
       "9         3.633180   8.015610   8.424369   3.482815   6.709694  3.945884   \n",
       "10        0.412311   6.578754   9.770363   5.890671   3.612478  4.431704   \n",
       "\n",
       "user_id         7          8         9         10  \n",
       "user_id                                            \n",
       "1         7.244998   5.047772  3.633180  0.412311  \n",
       "2         0.616441   3.618011  8.015610  6.578754  \n",
       "3         7.626270  10.010494  8.424369  9.770363  \n",
       "4        10.823123   9.958414  3.482815  5.890671  \n",
       "5         5.921993   2.167948  6.709694  3.612478  \n",
       "6         4.949747   5.987487  3.945884  4.431704  \n",
       "7         0.000000   4.153312  8.471718  7.137226  \n",
       "8         4.153312   0.000000  7.769170  5.107837  \n",
       "9         8.471718   7.769170  0.000000  3.293934  \n",
       "10        7.137226   5.107837  3.293934  0.000000  "
      ]
     },
     "execution_count": 18,
     "metadata": {},
     "output_type": "execute_result"
    }
   ],
   "source": [
    "df2"
   ]
  },
  {
   "cell_type": "code",
   "execution_count": 19,
   "metadata": {},
   "outputs": [
    {
     "data": {
      "text/html": [
       "<div>\n",
       "<style scoped>\n",
       "    .dataframe tbody tr th:only-of-type {\n",
       "        vertical-align: middle;\n",
       "    }\n",
       "\n",
       "    .dataframe tbody tr th {\n",
       "        vertical-align: top;\n",
       "    }\n",
       "\n",
       "    .dataframe thead th {\n",
       "        text-align: right;\n",
       "    }\n",
       "</style>\n",
       "<table border=\"1\" class=\"dataframe\">\n",
       "  <thead>\n",
       "    <tr style=\"text-align: right;\">\n",
       "      <th>user_id</th>\n",
       "      <th>1</th>\n",
       "      <th>2</th>\n",
       "      <th>3</th>\n",
       "      <th>4</th>\n",
       "      <th>5</th>\n",
       "      <th>6</th>\n",
       "      <th>7</th>\n",
       "      <th>8</th>\n",
       "      <th>9</th>\n",
       "      <th>10</th>\n",
       "    </tr>\n",
       "    <tr>\n",
       "      <th>user_id</th>\n",
       "      <th></th>\n",
       "      <th></th>\n",
       "      <th></th>\n",
       "      <th></th>\n",
       "      <th></th>\n",
       "      <th></th>\n",
       "      <th></th>\n",
       "      <th></th>\n",
       "      <th></th>\n",
       "      <th></th>\n",
       "    </tr>\n",
       "  </thead>\n",
       "  <tbody>\n",
       "    <tr>\n",
       "      <th>1</th>\n",
       "      <td>0.000000</td>\n",
       "      <td>5.801514</td>\n",
       "      <td>7.875189</td>\n",
       "      <td>4.715803</td>\n",
       "      <td>3.400000</td>\n",
       "      <td>4.400003</td>\n",
       "      <td>6.400850</td>\n",
       "      <td>4.401025</td>\n",
       "      <td>3.200085</td>\n",
       "      <td>0.301025</td>\n",
       "    </tr>\n",
       "    <tr>\n",
       "      <th>2</th>\n",
       "      <td>5.801514</td>\n",
       "      <td>0.000000</td>\n",
       "      <td>5.582463</td>\n",
       "      <td>7.680689</td>\n",
       "      <td>5.300000</td>\n",
       "      <td>4.400005</td>\n",
       "      <td>0.600000</td>\n",
       "      <td>3.400010</td>\n",
       "      <td>6.435159</td>\n",
       "      <td>5.603800</td>\n",
       "    </tr>\n",
       "    <tr>\n",
       "      <th>3</th>\n",
       "      <td>7.875189</td>\n",
       "      <td>5.582463</td>\n",
       "      <td>0.000000</td>\n",
       "      <td>8.100007</td>\n",
       "      <td>7.408914</td>\n",
       "      <td>4.912532</td>\n",
       "      <td>5.689450</td>\n",
       "      <td>6.570254</td>\n",
       "      <td>6.820602</td>\n",
       "      <td>7.658364</td>\n",
       "    </tr>\n",
       "    <tr>\n",
       "      <th>4</th>\n",
       "      <td>4.715803</td>\n",
       "      <td>7.680689</td>\n",
       "      <td>8.100007</td>\n",
       "      <td>0.000000</td>\n",
       "      <td>7.801255</td>\n",
       "      <td>4.717102</td>\n",
       "      <td>7.873307</td>\n",
       "      <td>8.800205</td>\n",
       "      <td>3.000101</td>\n",
       "      <td>4.450759</td>\n",
       "    </tr>\n",
       "    <tr>\n",
       "      <th>5</th>\n",
       "      <td>3.400000</td>\n",
       "      <td>5.300000</td>\n",
       "      <td>7.408914</td>\n",
       "      <td>7.801255</td>\n",
       "      <td>0.000000</td>\n",
       "      <td>4.681464</td>\n",
       "      <td>5.900000</td>\n",
       "      <td>1.900310</td>\n",
       "      <td>6.600000</td>\n",
       "      <td>3.600000</td>\n",
       "    </tr>\n",
       "    <tr>\n",
       "      <th>6</th>\n",
       "      <td>4.400003</td>\n",
       "      <td>4.400005</td>\n",
       "      <td>4.912532</td>\n",
       "      <td>4.717102</td>\n",
       "      <td>4.681464</td>\n",
       "      <td>0.000000</td>\n",
       "      <td>4.500135</td>\n",
       "      <td>5.600019</td>\n",
       "      <td>3.401683</td>\n",
       "      <td>4.200000</td>\n",
       "    </tr>\n",
       "    <tr>\n",
       "      <th>7</th>\n",
       "      <td>6.400850</td>\n",
       "      <td>0.600000</td>\n",
       "      <td>5.689450</td>\n",
       "      <td>7.873307</td>\n",
       "      <td>5.900000</td>\n",
       "      <td>4.500135</td>\n",
       "      <td>0.000000</td>\n",
       "      <td>4.000001</td>\n",
       "      <td>6.595259</td>\n",
       "      <td>6.202035</td>\n",
       "    </tr>\n",
       "    <tr>\n",
       "      <th>8</th>\n",
       "      <td>4.401025</td>\n",
       "      <td>3.400010</td>\n",
       "      <td>6.570254</td>\n",
       "      <td>8.800205</td>\n",
       "      <td>1.900310</td>\n",
       "      <td>5.600019</td>\n",
       "      <td>4.000001</td>\n",
       "      <td>0.000000</td>\n",
       "      <td>7.600000</td>\n",
       "      <td>4.600288</td>\n",
       "    </tr>\n",
       "    <tr>\n",
       "      <th>9</th>\n",
       "      <td>3.200085</td>\n",
       "      <td>6.435159</td>\n",
       "      <td>6.820602</td>\n",
       "      <td>3.000101</td>\n",
       "      <td>6.600000</td>\n",
       "      <td>3.401683</td>\n",
       "      <td>6.595259</td>\n",
       "      <td>7.600000</td>\n",
       "      <td>0.000000</td>\n",
       "      <td>3.000014</td>\n",
       "    </tr>\n",
       "    <tr>\n",
       "      <th>10</th>\n",
       "      <td>0.301025</td>\n",
       "      <td>5.603800</td>\n",
       "      <td>7.658364</td>\n",
       "      <td>4.450759</td>\n",
       "      <td>3.600000</td>\n",
       "      <td>4.200000</td>\n",
       "      <td>6.202035</td>\n",
       "      <td>4.600288</td>\n",
       "      <td>3.000014</td>\n",
       "      <td>0.000000</td>\n",
       "    </tr>\n",
       "  </tbody>\n",
       "</table>\n",
       "</div>"
      ],
      "text/plain": [
       "user_id        1         2         3         4         5         6         7   \\\n",
       "user_id                                                                         \n",
       "1        0.000000  5.801514  7.875189  4.715803  3.400000  4.400003  6.400850   \n",
       "2        5.801514  0.000000  5.582463  7.680689  5.300000  4.400005  0.600000   \n",
       "3        7.875189  5.582463  0.000000  8.100007  7.408914  4.912532  5.689450   \n",
       "4        4.715803  7.680689  8.100007  0.000000  7.801255  4.717102  7.873307   \n",
       "5        3.400000  5.300000  7.408914  7.801255  0.000000  4.681464  5.900000   \n",
       "6        4.400003  4.400005  4.912532  4.717102  4.681464  0.000000  4.500135   \n",
       "7        6.400850  0.600000  5.689450  7.873307  5.900000  4.500135  0.000000   \n",
       "8        4.401025  3.400010  6.570254  8.800205  1.900310  5.600019  4.000001   \n",
       "9        3.200085  6.435159  6.820602  3.000101  6.600000  3.401683  6.595259   \n",
       "10       0.301025  5.603800  7.658364  4.450759  3.600000  4.200000  6.202035   \n",
       "\n",
       "user_id        8         9         10  \n",
       "user_id                                \n",
       "1        4.401025  3.200085  0.301025  \n",
       "2        3.400010  6.435159  5.603800  \n",
       "3        6.570254  6.820602  7.658364  \n",
       "4        8.800205  3.000101  4.450759  \n",
       "5        1.900310  6.600000  3.600000  \n",
       "6        5.600019  3.401683  4.200000  \n",
       "7        4.000001  6.595259  6.202035  \n",
       "8        0.000000  7.600000  4.600288  \n",
       "9        7.600000  0.000000  3.000014  \n",
       "10       4.600288  3.000014  0.000000  "
      ]
     },
     "execution_count": 19,
     "metadata": {},
     "output_type": "execute_result"
    }
   ],
   "source": [
    "df3"
   ]
  },
  {
   "cell_type": "code",
   "execution_count": 20,
   "metadata": {},
   "outputs": [],
   "source": [
    "import matplotlib.pyplot as plt\n",
    "from mpl_toolkits.mplot3d import Axes3D"
   ]
  },
  {
   "cell_type": "code",
   "execution_count": 24,
   "metadata": {},
   "outputs": [
    {
     "data": {
      "text/plain": [
       "<mpl_toolkits.mplot3d.art3d.Path3DCollection at 0x7f795b2a1950>"
      ]
     },
     "execution_count": 24,
     "metadata": {},
     "output_type": "execute_result"
    },
    {
     "data": {
      "image/png": "[encoded data removed]",
      "text/plain": [
       "<Figure size 432x288 with 1 Axes>"
      ]
     },
     "metadata": {
      "needs_background": "light"
     },
     "output_type": "display_data"
    }
   ],
   "source": [
    "fig = plt.figure()\n",
    "ax = fig.add_subplot(111, projection='3d')\n",
    "ax.scatter(xs= data['star_wars'], ys=data['lord_of_the_rings'], zs=data['harry_potter'])"
   ]
  },
  {
   "cell_type": "markdown",
   "metadata": {},
   "source": [
    "### Metodos de enlaces\n",
    "Cada uno es diferente y los resultados pueden llegar a ser muy diferentes entre ellos.\n",
    "##### Enlace Simple\n",
    "##### Enlace Completo\n",
    "##### Enlace Promedio\n",
    "##### Enlace de Centroide\n",
    "##### Enlace Ward\n",
    "### Clustering Jerarquico\n",
    "Una vez reconocidos los enclaces y la distancia entre los elementos podemos agruparlos a travez de otras categorias que engloben a otras."
   ]
  },
  {
   "cell_type": "code",
   "execution_count": 25,
   "metadata": {},
   "outputs": [],
   "source": [
    "from scipy.cluster.hierarchy import dendrogram, linkage"
   ]
  },
  {
   "cell_type": "code",
   "execution_count": 26,
   "metadata": {},
   "outputs": [
    {
     "data": {
      "text/html": [
       "<div>\n",
       "<style scoped>\n",
       "    .dataframe tbody tr th:only-of-type {\n",
       "        vertical-align: middle;\n",
       "    }\n",
       "\n",
       "    .dataframe tbody tr th {\n",
       "        vertical-align: top;\n",
       "    }\n",
       "\n",
       "    .dataframe thead th {\n",
       "        text-align: right;\n",
       "    }\n",
       "</style>\n",
       "<table border=\"1\" class=\"dataframe\">\n",
       "  <thead>\n",
       "    <tr style=\"text-align: right;\">\n",
       "      <th></th>\n",
       "      <th>star_wars</th>\n",
       "      <th>lord_of_the_rings</th>\n",
       "      <th>harry_potter</th>\n",
       "    </tr>\n",
       "  </thead>\n",
       "  <tbody>\n",
       "    <tr>\n",
       "      <th>0</th>\n",
       "      <td>1.2</td>\n",
       "      <td>4.9</td>\n",
       "      <td>2.1</td>\n",
       "    </tr>\n",
       "    <tr>\n",
       "      <th>1</th>\n",
       "      <td>2.1</td>\n",
       "      <td>8.1</td>\n",
       "      <td>7.9</td>\n",
       "    </tr>\n",
       "    <tr>\n",
       "      <th>2</th>\n",
       "      <td>7.4</td>\n",
       "      <td>3.0</td>\n",
       "      <td>9.9</td>\n",
       "    </tr>\n",
       "    <tr>\n",
       "      <th>3</th>\n",
       "      <td>5.6</td>\n",
       "      <td>0.5</td>\n",
       "      <td>1.8</td>\n",
       "    </tr>\n",
       "    <tr>\n",
       "      <th>4</th>\n",
       "      <td>1.5</td>\n",
       "      <td>8.3</td>\n",
       "      <td>2.6</td>\n",
       "    </tr>\n",
       "    <tr>\n",
       "      <th>5</th>\n",
       "      <td>2.5</td>\n",
       "      <td>3.7</td>\n",
       "      <td>6.5</td>\n",
       "    </tr>\n",
       "    <tr>\n",
       "      <th>6</th>\n",
       "      <td>2.0</td>\n",
       "      <td>8.2</td>\n",
       "      <td>8.5</td>\n",
       "    </tr>\n",
       "    <tr>\n",
       "      <th>7</th>\n",
       "      <td>1.8</td>\n",
       "      <td>9.3</td>\n",
       "      <td>4.5</td>\n",
       "    </tr>\n",
       "    <tr>\n",
       "      <th>8</th>\n",
       "      <td>2.6</td>\n",
       "      <td>1.7</td>\n",
       "      <td>3.1</td>\n",
       "    </tr>\n",
       "    <tr>\n",
       "      <th>9</th>\n",
       "      <td>1.5</td>\n",
       "      <td>4.7</td>\n",
       "      <td>2.3</td>\n",
       "    </tr>\n",
       "  </tbody>\n",
       "</table>\n",
       "</div>"
      ],
      "text/plain": [
       "   star_wars  lord_of_the_rings  harry_potter\n",
       "0        1.2                4.9           2.1\n",
       "1        2.1                8.1           7.9\n",
       "2        7.4                3.0           9.9\n",
       "3        5.6                0.5           1.8\n",
       "4        1.5                8.3           2.6\n",
       "5        2.5                3.7           6.5\n",
       "6        2.0                8.2           8.5\n",
       "7        1.8                9.3           4.5\n",
       "8        2.6                1.7           3.1\n",
       "9        1.5                4.7           2.3"
      ]
     },
     "execution_count": 26,
     "metadata": {},
     "output_type": "execute_result"
    }
   ],
   "source": [
    "data[movies]"
   ]
  },
  {
   "cell_type": "code",
   "execution_count": 27,
   "metadata": {},
   "outputs": [
    {
     "data": {
      "text/plain": [
       "array([[ 0.        ,  9.        ,  0.41231056,  2.        ],\n",
       "       [ 1.        ,  6.        ,  0.6164414 ,  2.        ],\n",
       "       [ 4.        ,  7.        ,  2.16794834,  2.        ],\n",
       "       [ 3.        ,  8.        ,  3.48281495,  2.        ],\n",
       "       [ 5.        , 10.        ,  5.2943366 ,  3.        ],\n",
       "       [13.        , 14.        ,  6.59317829,  5.        ],\n",
       "       [11.        , 12.        ,  6.66408283,  4.        ],\n",
       "       [ 2.        , 15.        , 10.62355873,  6.        ],\n",
       "       [16.        , 17.        , 12.8156935 , 10.        ]])"
      ]
     },
     "execution_count": 27,
     "metadata": {},
     "output_type": "execute_result"
    }
   ],
   "source": [
    "z = linkage(data[movies],\"ward\")\n",
    "z"
   ]
  },
  {
   "cell_type": "markdown",
   "metadata": {},
   "source": [
    "los primeros dos datos son los que se unieron, luego esta la distancia y finalmente la cantidad de elementos"
   ]
  },
  {
   "cell_type": "code",
   "execution_count": 33,
   "metadata": {},
   "outputs": [
    {
     "data": {
      "image/png": "[encoded data removed]",
      "text/plain": [
       "<Figure size 1080x720 with 1 Axes>"
      ]
     },
     "metadata": {
      "needs_background": "light"
     },
     "output_type": "display_data"
    }
   ],
   "source": [
    "plt.figure(figsize=(15,10))\n",
    "plt.title('Dendrograma jerarquico para el Clustering')\n",
    "plt.xlabel(\"ID de los usuarios de Netflix\")\n",
    "plt.ylabel(\"Distance\")\n",
    "dendrogram(z,leaf_font_size=15)\n",
    "plt.show()"
   ]
  },
  {
   "cell_type": "code",
   "execution_count": 34,
   "metadata": {},
   "outputs": [
    {
     "data": {
      "image/png": "[encoded data removed]",
      "text/plain": [
       "<Figure size 1080x720 with 1 Axes>"
      ]
     },
     "metadata": {
      "needs_background": "light"
     },
     "output_type": "display_data"
    }
   ],
   "source": [
    "z = linkage(data[movies],\"average\")\n",
    "plt.figure(figsize=(15,10))\n",
    "plt.title('Dendrograma jerarquico para el Clustering')\n",
    "plt.xlabel(\"ID de los usuarios de Netflix\")\n",
    "plt.ylabel(\"Distance\")\n",
    "dendrogram(z,leaf_font_size=15)\n",
    "plt.show()"
   ]
  },
  {
   "cell_type": "code",
   "execution_count": 35,
   "metadata": {},
   "outputs": [
    {
     "data": {
      "image/png": "[encoded data removed]",
      "text/plain": [
       "<Figure size 1080x720 with 1 Axes>"
      ]
     },
     "metadata": {
      "needs_background": "light"
     },
     "output_type": "display_data"
    }
   ],
   "source": [
    "z = linkage(data[movies],\"single\")\n",
    "plt.figure(figsize=(15,10))\n",
    "plt.title('Dendrograma jerarquico para el Clustering')\n",
    "plt.xlabel(\"ID de los usuarios de Netflix\")\n",
    "plt.ylabel(\"Distance\")\n",
    "dendrogram(z,leaf_font_size=15)\n",
    "plt.show()"
   ]
  },
  {
   "cell_type": "code",
   "execution_count": 36,
   "metadata": {},
   "outputs": [
    {
     "data": {
      "image/png": "[encoded data removed]",
      "text/plain": [
       "<Figure size 1080x720 with 1 Axes>"
      ]
     },
     "metadata": {
      "needs_background": "light"
     },
     "output_type": "display_data"
    }
   ],
   "source": [
    "z = linkage(data[movies],\"median\")\n",
    "plt.figure(figsize=(15,10))\n",
    "plt.title('Dendrograma jerarquico para el Clustering')\n",
    "plt.xlabel(\"ID de los usuarios de Netflix\")\n",
    "plt.ylabel(\"Distance\")\n",
    "dendrogram(z,leaf_font_size=15)\n",
    "plt.show()"
   ]
  },
  {
   "cell_type": "markdown",
   "metadata": {},
   "source": [
    "https://docs.scipy.org/doc/scipy/reference/generated/scipy.spatial.distance.pdist.html\n",
    "\n",
    "\n",
    "podemos utilizar metricas para `linkage`, estas pueden ser dadas por `scipy.spatial.distance.pdist(X , metric= ) `.\n",
    "\n",
    "The distance metric to use. The distance function can be ‘braycurtis’, ‘canberra’, ‘chebyshev’, ‘cityblock’, ‘correlation’, ‘cosine’, ‘dice’, ‘euclidean’, ‘hamming’, ‘jaccard’, ‘jensenshannon’, ‘kulsinski’, ‘mahalanobis’, ‘matching’, ‘minkowski’, ‘rogerstanimoto’, ‘russellrao’, ‘seuclidean’, ‘sokalmichener’, ‘sokalsneath’, ‘sqeuclidean’, ‘yule’."
   ]
  },
  {
   "cell_type": "markdown",
   "metadata": {},
   "source": [
    "### Clustering jerárquico y dendrogramas\n",
    "\n",
    "Una de las ventajas de utilizar este metodo de clasificacion es que no hace falta saber de antemano cuantos o cuales van a ser las categorizaciones que se realizaran.\n",
    "\n",
    "Es uno de los metodos no supervisados mas populares para agrupar datos.\n",
    "\n",
    "\n",
    "Antes de empezar, pongamos un poco de notación para hablar todos el mismo idioma\n",
    "\n",
    "* X dataset (array de n x m) de puntos a clusterizar\n",
    "* n número de datos\n",
    "* m número de rasgos \n",
    "* Z array de enlace del cluster con la información de las uniones\n",
    "* k número de clusters"
   ]
  },
  {
   "cell_type": "code",
   "execution_count": 48,
   "metadata": {},
   "outputs": [],
   "source": [
    "import matplotlib.pyplot as plt\n",
    "from scipy.cluster.hierarchy import dendrogram, linkage, cophenet\n",
    "from scipy.spatial.distance import pdist\n",
    "import numpy as np\n",
    "import pandas as pd"
   ]
  },
  {
   "cell_type": "code",
   "execution_count": 46,
   "metadata": {},
   "outputs": [
    {
     "name": "stdout",
     "output_type": "stream",
     "text": [
      "(150, 2)\n"
     ]
    },
    {
     "data": {
      "image/png": "[encoded data removed]",
      "text/plain": [
       "<Figure size 432x288 with 1 Axes>"
      ]
     },
     "metadata": {
      "needs_background": "light"
     },
     "output_type": "display_data"
    }
   ],
   "source": [
    "np.random.seed(4711)\n",
    "### valores medio entre X e Y , desviacion entre 3 en X e 4 en Y , de un tamanio de..\n",
    "a = np.random.multivariate_normal([10,0],[[3,1],[1,4]],size = [100,])\n",
    "b = np.random.multivariate_normal([0,20],[[3,1],[1,4]],size = [50,])\n",
    "X = np.concatenate((a,b))\n",
    "print(X.shape)\n",
    "plt.scatter(X[:,0],X[:,1])\n",
    "plt.show()"
   ]
  },
  {
   "cell_type": "code",
   "execution_count": 47,
   "metadata": {},
   "outputs": [],
   "source": [
    "Z = linkage(X,'ward')"
   ]
  },
  {
   "cell_type": "code",
   "execution_count": 49,
   "metadata": {},
   "outputs": [
    {
     "data": {
      "text/plain": [
       "0.9800148387574268"
      ]
     },
     "execution_count": 49,
     "metadata": {},
     "output_type": "execute_result"
    }
   ],
   "source": [
    "#Porcentaje de conservacion de las distancias originales con respecto de los clusteres que se generarnon\n",
    "c , coph_dist = cophenet(Z, pdist(X))\n",
    "c"
   ]
  },
  {
   "cell_type": "code",
   "execution_count": 50,
   "metadata": {},
   "outputs": [
    {
     "data": {
      "text/plain": [
       "array([[5.20000000e+01, 5.30000000e+01, 4.15105485e-02, 2.00000000e+00],\n",
       "       [1.40000000e+01, 7.90000000e+01, 5.91375926e-02, 2.00000000e+00],\n",
       "       [3.30000000e+01, 6.80000000e+01, 7.10677929e-02, 2.00000000e+00],\n",
       "       [1.70000000e+01, 7.30000000e+01, 7.13712071e-02, 2.00000000e+00],\n",
       "       [1.00000000e+00, 8.00000000e+00, 7.54313099e-02, 2.00000000e+00],\n",
       "       [8.50000000e+01, 9.50000000e+01, 1.09277896e-01, 2.00000000e+00],\n",
       "       [1.08000000e+02, 1.31000000e+02, 1.10071548e-01, 2.00000000e+00],\n",
       "       [9.00000000e+00, 6.60000000e+01, 1.13022407e-01, 2.00000000e+00],\n",
       "       [1.50000000e+01, 6.90000000e+01, 1.14289714e-01, 2.00000000e+00],\n",
       "       [6.30000000e+01, 9.80000000e+01, 1.21200766e-01, 2.00000000e+00],\n",
       "       [1.07000000e+02, 1.15000000e+02, 1.21671017e-01, 2.00000000e+00],\n",
       "       [6.50000000e+01, 7.40000000e+01, 1.24900190e-01, 2.00000000e+00],\n",
       "       [5.80000000e+01, 6.10000000e+01, 1.40277358e-01, 2.00000000e+00],\n",
       "       [6.20000000e+01, 1.52000000e+02, 1.72599535e-01, 3.00000000e+00],\n",
       "       [4.10000000e+01, 1.58000000e+02, 1.77901377e-01, 3.00000000e+00],\n",
       "       [1.00000000e+01, 8.30000000e+01, 1.86354938e-01, 2.00000000e+00],\n",
       "       [1.14000000e+02, 1.39000000e+02, 2.04186147e-01, 2.00000000e+00],\n",
       "       [3.90000000e+01, 8.80000000e+01, 2.06282849e-01, 2.00000000e+00],\n",
       "       [7.00000000e+01, 9.60000000e+01, 2.19312547e-01, 2.00000000e+00],\n",
       "       [4.60000000e+01, 5.00000000e+01, 2.20492804e-01, 2.00000000e+00]])"
      ]
     },
     "execution_count": 50,
     "metadata": {},
     "output_type": "execute_result"
    }
   ],
   "source": [
    "Z[:20]"
   ]
  },
  {
   "cell_type": "code",
   "execution_count": 54,
   "metadata": {},
   "outputs": [
    {
     "data": {
      "text/plain": [
       "array([33.        , 68.        ,  0.07106779,  2.        ])"
      ]
     },
     "execution_count": 54,
     "metadata": {},
     "output_type": "execute_result"
    }
   ],
   "source": [
    "#De esta forma podemos saber como se formo el cluster\n",
    "Z[152-len(X)]"
   ]
  },
  {
   "cell_type": "code",
   "execution_count": 57,
   "metadata": {},
   "outputs": [
    {
     "data": {
      "text/plain": [
       "array([[ 9.83913054, -0.48729797],\n",
       "       [ 9.8934927 , -0.44152257],\n",
       "       [ 9.97792822, -0.56383202]])"
      ]
     },
     "execution_count": 57,
     "metadata": {},
     "output_type": "execute_result"
    }
   ],
   "source": [
    "#y aca podemos ver la posicion de los elementos. Como podemos apreciar se aproximan.\n",
    "idx = [33,68,62]\n",
    "X[idx]"
   ]
  },
  {
   "cell_type": "code",
   "execution_count": 59,
   "metadata": {},
   "outputs": [
    {
     "data": {
      "text/plain": [
       "<matplotlib.collections.PathCollection at 0x7f795a6bfcd0>"
      ]
     },
     "execution_count": 59,
     "metadata": {},
     "output_type": "execute_result"
    },
    {
     "data": {
      "image/png": "[encoded data removed]",
      "text/plain": [
       "<Figure size 720x576 with 1 Axes>"
      ]
     },
     "metadata": {
      "needs_background": "light"
     },
     "output_type": "display_data"
    }
   ],
   "source": [
    "plt.figure(figsize=(10,8))\n",
    "plt.scatter(X[:,0],X[:,1])\n",
    "plt.scatter(X[idx,0],X[idx,1],c=\"r\")"
   ]
  },
  {
   "cell_type": "markdown",
   "metadata": {},
   "source": [
    "### Representacion grafica de un dendrograma"
   ]
  },
  {
   "cell_type": "code",
   "execution_count": null,
   "metadata": {},
   "outputs": [],
   "source": []
  }
 ],
 "metadata": {
  "kernelspec": {
   "display_name": "Python 3",
   "language": "python",
   "name": "python3"
  },
  "language_info": {
   "codemirror_mode": {
    "name": "ipython",
    "version": 3
   },
   "file_extension": ".py",
   "mimetype": "text/x-python",
   "name": "python",
   "nbconvert_exporter": "python",
   "pygments_lexer": "ipython3",
   "version": "3.7.6"
  }
 },
 "nbformat": 4,
 "nbformat_minor": 4
}
