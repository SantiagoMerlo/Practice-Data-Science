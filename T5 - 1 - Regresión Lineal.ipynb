{
 "cells": [
  {
   "cell_type": "markdown",
   "metadata": {},
   "source": [
    "# Regresion Lineal"
   ]
  },
  {
   "cell_type": "markdown",
   "metadata": {},
   "source": [
    "**y = a + b*x**\n",
    "\n",
    "y es un valor resultante, mientras que x es un valor que varia.\n",
    "\n",
    "Lo que tenemos que calcular son los valores de alfa y beta que nos permita predecir la variacion de x y darnos la correspondiente valor de salida.\n",
    "\n",
    "ej.:\n",
    "    **alquiler_mensual = alfa + beta * metros_cuadrados**\n",
    "    \n",
    "    \n",
    "### Tecnicas de minimos cuadrados\n",
    "\n",
    "https://es.wikipedia.org/wiki/M%C3%ADnimos_cuadrados\n",
    "\n",
    "El objetivo es minimizar la suma de los cuadrados\n",
    "\n",
    "Beta se obtiene dividiendo covaracian por varianza:\n",
    "\n",
    "    beta:\n",
    "        Sum( Xi - Xme)*(Yi - Yme) --> Covarianza\n",
    "        Sum(Xi - Xme)^2 --> Varianza\n",
    "\n",
    "Alfa se obtiene despajandola del modelo:\n",
    "    \n",
    "    alfa = YMe - Beta*XMe\n",
    "    \n",
    "    \n",
    "#### Error\n",
    "\n",
    "Normalmente lo que el modelo no pueda explicar se lo va a considerar en la distribucion del error. (El error siempre se encuentra sumando al modelo)\n",
    "\n",
    "\n",
    "# Modelacion\n",
    "## Modelos con datos simulados\n",
    "\n",
    "* y = a + b * x\n",
    "\n",
    "* X = 100 valores distribuidos segun una N(1.5,2.5)\n",
    "* Ye = 3 * 2.6 * x + e\n",
    "* e estara distribuido en una N(0,0.8)"
   ]
  },
  {
   "cell_type": "code",
   "execution_count": 1,
   "metadata": {},
   "outputs": [],
   "source": [
    "import pandas as pd\n",
    "import numpy as np\n",
    "import matplotlib.pyplot as plt"
   ]
  },
  {
   "cell_type": "code",
   "execution_count": 2,
   "metadata": {},
   "outputs": [],
   "source": [
    "# data set\n",
    "x = 1.5 + 2.5 * np.random.randn(100)\n",
    "res = 0 + 0.8 * np.random.randn(100)\n",
    "y_pred = 5 + 1.3 * x\n",
    "y_act = 5 + 1.3 * x + res"
   ]
  },
  {
   "cell_type": "code",
   "execution_count": 3,
   "metadata": {},
   "outputs": [],
   "source": [
    "x_list = x.tolist()\n",
    "y_pred_list = y_pred.tolist()\n",
    "y_act_list = y_act.tolist()"
   ]
  },
  {
   "cell_type": "code",
   "execution_count": 4,
   "metadata": {},
   "outputs": [],
   "source": [
    "data = pd.DataFrame({\n",
    "    \"X\": x_list,\n",
    "    \"Y Actual\": y_act_list,\n",
    "    \"Y Prediccion\": y_pred_list\n",
    "})"
   ]
  },
  {
   "cell_type": "code",
   "execution_count": 5,
   "metadata": {},
   "outputs": [
    {
     "data": {
      "text/html": [
       "<div>\n",
       "<style scoped>\n",
       "    .dataframe tbody tr th:only-of-type {\n",
       "        vertical-align: middle;\n",
       "    }\n",
       "\n",
       "    .dataframe tbody tr th {\n",
       "        vertical-align: top;\n",
       "    }\n",
       "\n",
       "    .dataframe thead th {\n",
       "        text-align: right;\n",
       "    }\n",
       "</style>\n",
       "<table border=\"1\" class=\"dataframe\">\n",
       "  <thead>\n",
       "    <tr style=\"text-align: right;\">\n",
       "      <th></th>\n",
       "      <th>X</th>\n",
       "      <th>Y Actual</th>\n",
       "      <th>Y Prediccion</th>\n",
       "    </tr>\n",
       "  </thead>\n",
       "  <tbody>\n",
       "    <tr>\n",
       "      <td>0</td>\n",
       "      <td>4.796393</td>\n",
       "      <td>9.391866</td>\n",
       "      <td>11.235311</td>\n",
       "    </tr>\n",
       "    <tr>\n",
       "      <td>1</td>\n",
       "      <td>-0.033879</td>\n",
       "      <td>4.322422</td>\n",
       "      <td>4.955957</td>\n",
       "    </tr>\n",
       "    <tr>\n",
       "      <td>2</td>\n",
       "      <td>0.825211</td>\n",
       "      <td>6.409119</td>\n",
       "      <td>6.072774</td>\n",
       "    </tr>\n",
       "    <tr>\n",
       "      <td>3</td>\n",
       "      <td>-1.053802</td>\n",
       "      <td>3.270012</td>\n",
       "      <td>3.630058</td>\n",
       "    </tr>\n",
       "    <tr>\n",
       "      <td>4</td>\n",
       "      <td>0.831761</td>\n",
       "      <td>6.376781</td>\n",
       "      <td>6.081289</td>\n",
       "    </tr>\n",
       "  </tbody>\n",
       "</table>\n",
       "</div>"
      ],
      "text/plain": [
       "          X  Y Actual  Y Prediccion\n",
       "0  4.796393  9.391866     11.235311\n",
       "1 -0.033879  4.322422      4.955957\n",
       "2  0.825211  6.409119      6.072774\n",
       "3 -1.053802  3.270012      3.630058\n",
       "4  0.831761  6.376781      6.081289"
      ]
     },
     "execution_count": 5,
     "metadata": {},
     "output_type": "execute_result"
    }
   ],
   "source": [
    "data.head()"
   ]
  },
  {
   "cell_type": "code",
   "execution_count": 6,
   "metadata": {},
   "outputs": [],
   "source": [
    "y_mean = [np.mean(y_act) for i in range(1,len(x_list)+1)]"
   ]
  },
  {
   "cell_type": "code",
   "execution_count": 7,
   "metadata": {},
   "outputs": [
    {
     "data": {
      "text/plain": [
       "Text(0.5, 1.0, 'Valor actual vs Prediccion')"
      ]
     },
     "execution_count": 7,
     "metadata": {},
     "output_type": "execute_result"
    },
    {
     "data": {
      "image/png": "[encoded data removed]",
      "text/plain": [
       "<Figure size 432x288 with 1 Axes>"
      ]
     },
     "metadata": {
      "needs_background": "light"
     },
     "output_type": "display_data"
    }
   ],
   "source": [
    "## lo que estamos viendo es que tan bueno es el modelo de prediccion\n",
    "%matplotlib inline\n",
    "plt.plot(x,y_pred)\n",
    "plt.plot(x,y_act,\"ro\")\n",
    "plt.plot(x,y_mean,\"g\")\n",
    "plt.title(\"Valor actual vs Prediccion\")"
   ]
  },
  {
   "cell_type": "markdown",
   "metadata": {},
   "source": [
    "***los datos que encontramos fuera de la linea son llamados datos observados***\n",
    "* La distancia de ese punto hasta la linea del modelo es llamado SSD (suma de los cuadrados de las diferencias), esto quiere decir la diferencia con el modelo. es decir el error.\n",
    "* Pero hay otra distancia a tener en cuenta SST que es la distancia de las sumas total, es decir, la distancia de ese punto con el promedio de Y\n",
    "* Finalmente tenemos el SSR que es la suma del del SSD y SST en ese punto\n",
    "\n",
    "Se puede calcular cada una de las distancias de los errores de cada punto.\n",
    "\n",
    "A tener en cuenta: \n",
    "    \n",
    "    SSR = SSD + SST\n",
    "\n",
    "    R^2 = SSR / SST\n",
    "    \n",
    "El **R^2** es un factor de calidad del modelo pero no es definitivo.\n",
    "**Mientras mas cercano es 1, significa que mayor es el ajuste al modelo**"
   ]
  },
  {
   "cell_type": "code",
   "execution_count": 8,
   "metadata": {},
   "outputs": [],
   "source": [
    "data[\"SSR\"] = (data[\"Y Prediccion\"] - np.mean(y_act)) ** 2\n",
    "data[\"SSD\"] = (data[\"Y Prediccion\"] - data[\"Y Actual\"]) ** 2\n",
    "data[\"SST\"] = (data[\"Y Actual\"] - np.mean(y_act)) ** 2"
   ]
  },
  {
   "cell_type": "code",
   "execution_count": 9,
   "metadata": {},
   "outputs": [
    {
     "data": {
      "text/html": [
       "<div>\n",
       "<style scoped>\n",
       "    .dataframe tbody tr th:only-of-type {\n",
       "        vertical-align: middle;\n",
       "    }\n",
       "\n",
       "    .dataframe tbody tr th {\n",
       "        vertical-align: top;\n",
       "    }\n",
       "\n",
       "    .dataframe thead th {\n",
       "        text-align: right;\n",
       "    }\n",
       "</style>\n",
       "<table border=\"1\" class=\"dataframe\">\n",
       "  <thead>\n",
       "    <tr style=\"text-align: right;\">\n",
       "      <th></th>\n",
       "      <th>X</th>\n",
       "      <th>Y Actual</th>\n",
       "      <th>Y Prediccion</th>\n",
       "      <th>SSR</th>\n",
       "      <th>SSD</th>\n",
       "      <th>SST</th>\n",
       "    </tr>\n",
       "  </thead>\n",
       "  <tbody>\n",
       "    <tr>\n",
       "      <td>0</td>\n",
       "      <td>4.796393</td>\n",
       "      <td>9.391866</td>\n",
       "      <td>11.235311</td>\n",
       "      <td>23.030121</td>\n",
       "      <td>3.398288</td>\n",
       "      <td>8.735135</td>\n",
       "    </tr>\n",
       "    <tr>\n",
       "      <td>1</td>\n",
       "      <td>-0.033879</td>\n",
       "      <td>4.322422</td>\n",
       "      <td>4.955957</td>\n",
       "      <td>2.191534</td>\n",
       "      <td>0.401366</td>\n",
       "      <td>4.468648</td>\n",
       "    </tr>\n",
       "    <tr>\n",
       "      <td>2</td>\n",
       "      <td>0.825211</td>\n",
       "      <td>6.409119</td>\n",
       "      <td>6.072774</td>\n",
       "      <td>0.132180</td>\n",
       "      <td>0.113128</td>\n",
       "      <td>0.000741</td>\n",
       "    </tr>\n",
       "    <tr>\n",
       "      <td>3</td>\n",
       "      <td>-1.053802</td>\n",
       "      <td>3.270012</td>\n",
       "      <td>3.630058</td>\n",
       "      <td>7.875220</td>\n",
       "      <td>0.129633</td>\n",
       "      <td>10.025633</td>\n",
       "    </tr>\n",
       "    <tr>\n",
       "      <td>4</td>\n",
       "      <td>0.831761</td>\n",
       "      <td>6.376781</td>\n",
       "      <td>6.081289</td>\n",
       "      <td>0.126061</td>\n",
       "      <td>0.087316</td>\n",
       "      <td>0.003547</td>\n",
       "    </tr>\n",
       "  </tbody>\n",
       "</table>\n",
       "</div>"
      ],
      "text/plain": [
       "          X  Y Actual  Y Prediccion        SSR       SSD        SST\n",
       "0  4.796393  9.391866     11.235311  23.030121  3.398288   8.735135\n",
       "1 -0.033879  4.322422      4.955957   2.191534  0.401366   4.468648\n",
       "2  0.825211  6.409119      6.072774   0.132180  0.113128   0.000741\n",
       "3 -1.053802  3.270012      3.630058   7.875220  0.129633  10.025633\n",
       "4  0.831761  6.376781      6.081289   0.126061  0.087316   0.003547"
      ]
     },
     "execution_count": 9,
     "metadata": {},
     "output_type": "execute_result"
    }
   ],
   "source": [
    "data.head()"
   ]
  },
  {
   "cell_type": "code",
   "execution_count": 10,
   "metadata": {},
   "outputs": [],
   "source": [
    "SSR = sum(data[\"SSR\"])\n",
    "SSD = sum(data[\"SSD\"])\n",
    "SST = sum(data[\"SST\"])"
   ]
  },
  {
   "cell_type": "code",
   "execution_count": 11,
   "metadata": {},
   "outputs": [
    {
     "data": {
      "text/plain": [
       "976.8109131297822"
      ]
     },
     "execution_count": 11,
     "metadata": {},
     "output_type": "execute_result"
    }
   ],
   "source": [
    "SSR"
   ]
  },
  {
   "cell_type": "code",
   "execution_count": 12,
   "metadata": {},
   "outputs": [
    {
     "data": {
      "text/plain": [
       "58.84049646714629"
      ]
     },
     "execution_count": 12,
     "metadata": {},
     "output_type": "execute_result"
    }
   ],
   "source": [
    "SSD"
   ]
  },
  {
   "cell_type": "code",
   "execution_count": 13,
   "metadata": {},
   "outputs": [
    {
     "data": {
      "text/plain": [
       "1026.7360521687592"
      ]
     },
     "execution_count": 13,
     "metadata": {},
     "output_type": "execute_result"
    }
   ],
   "source": [
    "SST"
   ]
  },
  {
   "cell_type": "code",
   "execution_count": 14,
   "metadata": {},
   "outputs": [
    {
     "data": {
      "text/plain": [
       "0.9513749040627132"
      ]
     },
     "execution_count": 14,
     "metadata": {},
     "output_type": "execute_result"
    }
   ],
   "source": [
    "## LA PREDICCION DE Y_PREDICCION ES UN VALOR BASTANTE ACERTADO\n",
    "R2 = SSR/SST\n",
    "R2"
   ]
  },
  {
   "cell_type": "code",
   "execution_count": 15,
   "metadata": {},
   "outputs": [
    {
     "data": {
      "text/plain": [
       "(array([ 3.,  6.,  7., 18., 18., 19., 13.,  7.,  5.,  4.]),\n",
       " array([-1.66575796, -1.30701202, -0.94826609, -0.58952016, -0.23077423,\n",
       "         0.1279717 ,  0.48671763,  0.84546356,  1.20420949,  1.56295542,\n",
       "         1.92170135]),\n",
       " <a list of 10 Patch objects>)"
      ]
     },
     "execution_count": 15,
     "metadata": {},
     "output_type": "execute_result"
    },
    {
     "data": {
      "image/png": "[encoded data removed]",
      "text/plain": [
       "<Figure size 432x288 with 1 Axes>"
      ]
     },
     "metadata": {
      "needs_background": "light"
     },
     "output_type": "display_data"
    }
   ],
   "source": [
    "# otro factor de que este bien el modelo es que este centrado en 0 y se note una clara distribucion normal\n",
    "plt.hist(data[\"Y Prediccion\"] - data[\"Y Actual\"])"
   ]
  },
  {
   "cell_type": "markdown",
   "metadata": {},
   "source": [
    "## Obteniendo la recta de regresion\n",
    "\n",
    "* y = a + b * x\n",
    "* b = sum(xi - xMe)*(yi - yMe) / sum(x - xMe)^2\n",
    "* a = yMe - b*xMe"
   ]
  },
  {
   "cell_type": "code",
   "execution_count": 16,
   "metadata": {},
   "outputs": [
    {
     "data": {
      "text/plain": [
       "(1.198841079600719, 6.4363399478722245)"
      ]
     },
     "execution_count": 16,
     "metadata": {},
     "output_type": "execute_result"
    }
   ],
   "source": [
    "x_mean = np.mean(data[\"X\"])\n",
    "y_mean = np.mean(data[\"Y Actual\"])\n",
    "x_mean, y_mean"
   ]
  },
  {
   "cell_type": "code",
   "execution_count": 17,
   "metadata": {},
   "outputs": [],
   "source": [
    "beta = sum((data[\"X\"] - x_mean)*(data[\"Y Actual\"] - y_mean))/sum((data[\"X\"] - x_mean)**2)"
   ]
  },
  {
   "cell_type": "code",
   "execution_count": 18,
   "metadata": {},
   "outputs": [],
   "source": [
    "alfa = y_mean - beta * x_mean"
   ]
  },
  {
   "cell_type": "code",
   "execution_count": 19,
   "metadata": {},
   "outputs": [
    {
     "data": {
      "text/plain": [
       "(4.882585263961537, 1.2960472495888902)"
      ]
     },
     "execution_count": 19,
     "metadata": {},
     "output_type": "execute_result"
    }
   ],
   "source": [
    "alfa , beta"
   ]
  },
  {
   "cell_type": "markdown",
   "metadata": {},
   "source": [
    "El modelo lineal obtenido por regresion es:\n",
    "    ` Y = 3.1670150744921504 + 2.5425860094328696 * X`"
   ]
  },
  {
   "cell_type": "code",
   "execution_count": 20,
   "metadata": {},
   "outputs": [
    {
     "data": {
      "text/html": [
       "<div>\n",
       "<style scoped>\n",
       "    .dataframe tbody tr th:only-of-type {\n",
       "        vertical-align: middle;\n",
       "    }\n",
       "\n",
       "    .dataframe tbody tr th {\n",
       "        vertical-align: top;\n",
       "    }\n",
       "\n",
       "    .dataframe thead th {\n",
       "        text-align: right;\n",
       "    }\n",
       "</style>\n",
       "<table border=\"1\" class=\"dataframe\">\n",
       "  <thead>\n",
       "    <tr style=\"text-align: right;\">\n",
       "      <th></th>\n",
       "      <th>X</th>\n",
       "      <th>Y Actual</th>\n",
       "      <th>Y Prediccion</th>\n",
       "      <th>SSR</th>\n",
       "      <th>SSD</th>\n",
       "      <th>SST</th>\n",
       "      <th>Y Model</th>\n",
       "    </tr>\n",
       "  </thead>\n",
       "  <tbody>\n",
       "    <tr>\n",
       "      <td>0</td>\n",
       "      <td>4.796393</td>\n",
       "      <td>9.391866</td>\n",
       "      <td>11.235311</td>\n",
       "      <td>23.030121</td>\n",
       "      <td>3.398288</td>\n",
       "      <td>8.735135</td>\n",
       "      <td>11.098937</td>\n",
       "    </tr>\n",
       "    <tr>\n",
       "      <td>1</td>\n",
       "      <td>-0.033879</td>\n",
       "      <td>4.322422</td>\n",
       "      <td>4.955957</td>\n",
       "      <td>2.191534</td>\n",
       "      <td>0.401366</td>\n",
       "      <td>4.468648</td>\n",
       "      <td>4.838676</td>\n",
       "    </tr>\n",
       "    <tr>\n",
       "      <td>2</td>\n",
       "      <td>0.825211</td>\n",
       "      <td>6.409119</td>\n",
       "      <td>6.072774</td>\n",
       "      <td>0.132180</td>\n",
       "      <td>0.113128</td>\n",
       "      <td>0.000741</td>\n",
       "      <td>5.952098</td>\n",
       "    </tr>\n",
       "    <tr>\n",
       "      <td>3</td>\n",
       "      <td>-1.053802</td>\n",
       "      <td>3.270012</td>\n",
       "      <td>3.630058</td>\n",
       "      <td>7.875220</td>\n",
       "      <td>0.129633</td>\n",
       "      <td>10.025633</td>\n",
       "      <td>3.516808</td>\n",
       "    </tr>\n",
       "    <tr>\n",
       "      <td>4</td>\n",
       "      <td>0.831761</td>\n",
       "      <td>6.376781</td>\n",
       "      <td>6.081289</td>\n",
       "      <td>0.126061</td>\n",
       "      <td>0.087316</td>\n",
       "      <td>0.003547</td>\n",
       "      <td>5.960586</td>\n",
       "    </tr>\n",
       "    <tr>\n",
       "      <td>...</td>\n",
       "      <td>...</td>\n",
       "      <td>...</td>\n",
       "      <td>...</td>\n",
       "      <td>...</td>\n",
       "      <td>...</td>\n",
       "      <td>...</td>\n",
       "      <td>...</td>\n",
       "    </tr>\n",
       "    <tr>\n",
       "      <td>95</td>\n",
       "      <td>2.062861</td>\n",
       "      <td>8.788656</td>\n",
       "      <td>7.681720</td>\n",
       "      <td>1.550971</td>\n",
       "      <td>1.225309</td>\n",
       "      <td>5.533393</td>\n",
       "      <td>7.556151</td>\n",
       "    </tr>\n",
       "    <tr>\n",
       "      <td>96</td>\n",
       "      <td>1.992975</td>\n",
       "      <td>7.753324</td>\n",
       "      <td>7.590867</td>\n",
       "      <td>1.332933</td>\n",
       "      <td>0.026392</td>\n",
       "      <td>1.734446</td>\n",
       "      <td>7.465575</td>\n",
       "    </tr>\n",
       "    <tr>\n",
       "      <td>97</td>\n",
       "      <td>1.381042</td>\n",
       "      <td>6.985465</td>\n",
       "      <td>6.795355</td>\n",
       "      <td>0.128892</td>\n",
       "      <td>0.036142</td>\n",
       "      <td>0.301539</td>\n",
       "      <td>6.672482</td>\n",
       "    </tr>\n",
       "    <tr>\n",
       "      <td>98</td>\n",
       "      <td>-0.101072</td>\n",
       "      <td>3.569117</td>\n",
       "      <td>4.868606</td>\n",
       "      <td>2.457790</td>\n",
       "      <td>1.688672</td>\n",
       "      <td>8.220968</td>\n",
       "      <td>4.751591</td>\n",
       "    </tr>\n",
       "    <tr>\n",
       "      <td>99</td>\n",
       "      <td>4.904360</td>\n",
       "      <td>11.083314</td>\n",
       "      <td>11.375668</td>\n",
       "      <td>24.396961</td>\n",
       "      <td>0.085471</td>\n",
       "      <td>21.594366</td>\n",
       "      <td>11.238868</td>\n",
       "    </tr>\n",
       "  </tbody>\n",
       "</table>\n",
       "<p>100 rows × 7 columns</p>\n",
       "</div>"
      ],
      "text/plain": [
       "           X   Y Actual  Y Prediccion        SSR       SSD        SST  \\\n",
       "0   4.796393   9.391866     11.235311  23.030121  3.398288   8.735135   \n",
       "1  -0.033879   4.322422      4.955957   2.191534  0.401366   4.468648   \n",
       "2   0.825211   6.409119      6.072774   0.132180  0.113128   0.000741   \n",
       "3  -1.053802   3.270012      3.630058   7.875220  0.129633  10.025633   \n",
       "4   0.831761   6.376781      6.081289   0.126061  0.087316   0.003547   \n",
       "..       ...        ...           ...        ...       ...        ...   \n",
       "95  2.062861   8.788656      7.681720   1.550971  1.225309   5.533393   \n",
       "96  1.992975   7.753324      7.590867   1.332933  0.026392   1.734446   \n",
       "97  1.381042   6.985465      6.795355   0.128892  0.036142   0.301539   \n",
       "98 -0.101072   3.569117      4.868606   2.457790  1.688672   8.220968   \n",
       "99  4.904360  11.083314     11.375668  24.396961  0.085471  21.594366   \n",
       "\n",
       "      Y Model  \n",
       "0   11.098937  \n",
       "1    4.838676  \n",
       "2    5.952098  \n",
       "3    3.516808  \n",
       "4    5.960586  \n",
       "..        ...  \n",
       "95   7.556151  \n",
       "96   7.465575  \n",
       "97   6.672482  \n",
       "98   4.751591  \n",
       "99  11.238868  \n",
       "\n",
       "[100 rows x 7 columns]"
      ]
     },
     "execution_count": 20,
     "metadata": {},
     "output_type": "execute_result"
    }
   ],
   "source": [
    "data[\"Y Model\"] = alfa + beta * data[\"X\"]\n",
    "data"
   ]
  },
  {
   "cell_type": "code",
   "execution_count": 21,
   "metadata": {},
   "outputs": [
    {
     "data": {
      "text/plain": [
       "(969.3967193025586, 57.33933286620096, 1026.7360521687592)"
      ]
     },
     "execution_count": 21,
     "metadata": {},
     "output_type": "execute_result"
    }
   ],
   "source": [
    "SSR = sum((data[\"Y Model\"] - y_mean) ** 2)\n",
    "SSD = sum((data[\"Y Model\"] - data[\"Y Actual\"]) ** 2)\n",
    "SST = sum((data[\"Y Actual\"] - y_mean) ** 2)\n",
    "SSR, SSD , SST"
   ]
  },
  {
   "cell_type": "code",
   "execution_count": 22,
   "metadata": {},
   "outputs": [
    {
     "data": {
      "text/plain": [
       "0.9441537747261494"
      ]
     },
     "execution_count": 22,
     "metadata": {},
     "output_type": "execute_result"
    }
   ],
   "source": [
    "R2 = SSR/SST\n",
    "R2"
   ]
  },
  {
   "cell_type": "code",
   "execution_count": 23,
   "metadata": {},
   "outputs": [
    {
     "data": {
      "text/plain": [
       "Text(0.5, 1.0, 'Valor actual vs Prediccion')"
      ]
     },
     "execution_count": 23,
     "metadata": {},
     "output_type": "execute_result"
    },
    {
     "data": {
      "image/png": "[encoded data removed]",
      "text/plain": [
       "<Figure size 432x288 with 1 Axes>"
      ]
     },
     "metadata": {
      "needs_background": "light"
     },
     "output_type": "display_data"
    }
   ],
   "source": [
    "%matplotlib inline\n",
    "plt.plot(data[\"X\"],data[\"Y Prediccion\"])\n",
    "plt.plot(data[\"X\"],data[\"Y Actual\"],\"ro\")\n",
    "plt.plot(data[\"X\"],data[\"Y Model\"],\"g\")\n",
    "plt.title(\"Valor actual vs Prediccion\")"
   ]
  },
  {
   "cell_type": "markdown",
   "metadata": {},
   "source": [
    "## Parametros Estadisticos\n",
    "\n",
    "### El valor estadistico `P` :\n",
    "* En caso de de que Beta tiene tendencia a 0.\n",
    "\n",
    "Si esto ocurre quiere decir que tenemos que aceptar que existe una hipostesis lineal entre x e y.\n",
    "\n",
    "Para rechazar la hipotesis nula, tenemos que calcular el valor de p.\n",
    "* Si p es nula o cercano, se descarta la primera hipotesisi ESTO QUIERE DECIR QUE CON SEGURIDAD EL VALOR DE BETA NO ES CERO\n",
    "\n",
    "### El valor estadistico `F`:\n",
    "* Existe un contraste hipotetico.\n",
    "    * H0 = `beta1, beta2, ..., betaN = 0`\n",
    "    * H1 = `betai <> 0` para algun valor i\n",
    "* Puede existir mas de una Beta y una Xi.\n",
    "* `F = (SSR/k)/(SSD/(n - k - 1))`\n",
    "    * `SSR = SUM(y(xi) - yMe)^2`\n",
    "    * `SSD = SUM(yi - y(xi))^2`\n",
    "    * `SST = SUM(yi - yMe)^2`\n",
    "    \n",
    "**En el caso de una regresion lineal multiple:**\n",
    "\n",
    "Mirar el nivel de significacion de cada parametro por separado, puede ser realmente pequenio y aceptar la hipotesis alternativa de que cada uno por separado no es nulo y existe correlacion entre la prediccion y cada variable predictora por separado\n",
    "\n",
    "Si los miramos todos juntos, podria ocurrir que el p-valor fuera grande y acabaramos aceptando la hipotesis nula de que el conjunto de variables predictoras no guardan relacion alguna con la prediccion.\n",
    "\n",
    "\n",
    "### Error Estandar de los residuos:\n",
    "`RSE` es la desviacion estandar del termino error (desviacion de la parte de datos que el modelo no es capaz de explicar por falta de informacion o mas datos adiccionales)\n",
    "\n",
    "* En caso de una regresion lineal simple:\n",
    "`RSE = SQRT((SUM(yi - y(xi)^2)/(n - 2)) = SQRT(SSD/(N - 2)`\n",
    "* En caso de regresion lineal multiple:\n",
    "`RSE = SQRT((SUM(yi - y(xi)^2)/(n - k - 1)) = SQRT(SSD/(N- k - 1)`"
   ]
  },
  {
   "cell_type": "code",
   "execution_count": 26,
   "metadata": {},
   "outputs": [
    {
     "data": {
      "text/plain": [
       "0.764915180479889"
      ]
     },
     "execution_count": 26,
     "metadata": {},
     "output_type": "execute_result"
    }
   ],
   "source": [
    "RSE = np.sqrt(SSD/(len(data)-2))\n",
    "RSE\n",
    "#Cuanto menor sea el valor mejor"
   ]
  },
  {
   "cell_type": "code",
   "execution_count": 28,
   "metadata": {},
   "outputs": [
    {
     "name": "stdout",
     "output_type": "stream",
     "text": [
      "Este seria el porcentaje de error:  0.11884319142166515\n"
     ]
    }
   ],
   "source": [
    "print(\"Este seria el porcentaje de error: \",RSE / np.mean(data[\"Y Actual\"]))"
   ]
  }
 ],
 "metadata": {
  "kernelspec": {
   "display_name": "Python 3",
   "language": "python",
   "name": "python3"
  },
  "language_info": {
   "codemirror_mode": {
    "name": "ipython",
    "version": 3
   },
   "file_extension": ".py",
   "mimetype": "text/x-python",
   "name": "python",
   "nbconvert_exporter": "python",
   "pygments_lexer": "ipython3",
   "version": "3.7.4"
  }
 },
 "nbformat": 4,
 "nbformat_minor": 2
}
